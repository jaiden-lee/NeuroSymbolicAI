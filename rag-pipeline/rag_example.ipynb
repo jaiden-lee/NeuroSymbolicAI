{
 "cells": [
  {
   "cell_type": "code",
   "execution_count": 1,
   "metadata": {},
   "outputs": [
    {
     "name": "stderr",
     "output_type": "stream",
     "text": [
      "c:\\Users\\jaide\\Documents\\CodingProjects\\NeuroSymbolicAI\\.venv\\Lib\\site-packages\\tqdm\\auto.py:21: TqdmWarning: IProgress not found. Please update jupyter and ipywidgets. See https://ipywidgets.readthedocs.io/en/stable/user_install.html\n",
      "  from .autonotebook import tqdm as notebook_tqdm\n"
     ]
    }
   ],
   "source": [
    "from rag_pipeline import RAG\n",
    "from datasets import load_dataset"
   ]
  },
  {
   "cell_type": "code",
   "execution_count": null,
   "metadata": {},
   "outputs": [],
   "source": [
    "rag = RAG()\n",
    "clapnq = load_dataset(\"PrimeQA/clapnq\")\n",
    "print(clapnq)"
   ]
  },
  {
   "cell_type": "code",
   "execution_count": 3,
   "metadata": {},
   "outputs": [
    {
     "name": "stdout",
     "output_type": "stream",
     "text": [
      "['Seasonality is a characteristic of a time series in which the data experiences regular and predictable changes which recur every calendar year .', 'Any predictable change or pattern in a time series that recurs or repeats over a one - year period can be said to be seasonal .', \"It is common in many situations -- such as grocery store or even in a Medical Examiner 's office -- that the demand depends on the day of the week .\", \"In such situations , the forecasting procedure calculates the seasonal index of the `` season '' -- seven seasons , one for each day -- which is the ratio of the average demand of that season ( which is calculated by Moving Average or Exponential Smoothing using historical data corresponding only to that season ) to the average demand across all seasons .\", 'An index higher than 1 indicates that demand is higher than average ; an index less than 1 indicates that the demand is less than the average .']\n"
     ]
    }
   ],
   "source": [
    "entry = clapnq['validation'][0]\n",
    "prompt = entry['input']\n",
    "documents = []\n",
    "for passage in entry['passages']:\n",
    "    sentences = passage['sentences']\n",
    "    documents += sentences\n",
    "collection_title = entry['id']\n",
    "print(documents)"
   ]
  },
  {
   "cell_type": "code",
   "execution_count": 4,
   "metadata": {},
   "outputs": [],
   "source": [
    "rag.add_documents(collection_title, documents)"
   ]
  },
  {
   "cell_type": "code",
   "execution_count": 5,
   "metadata": {},
   "outputs": [
    {
     "name": "stderr",
     "output_type": "stream",
     "text": [
      "\n",
      "llama_print_timings:        load time =   15615.72 ms\n",
      "llama_print_timings:      sample time =      55.87 ms /   260 runs   (    0.21 ms per token,  4653.58 tokens per second)\n",
      "llama_print_timings: prompt eval time =   15615.18 ms /   197 tokens (   79.26 ms per token,    12.62 tokens per second)\n",
      "llama_print_timings:        eval time =   30563.55 ms /   259 runs   (  118.01 ms per token,     8.47 tokens per second)\n",
      "llama_print_timings:       total time =   47018.99 ms /   456 tokens\n"
     ]
    },
    {
     "name": "stdout",
     "output_type": "stream",
     "text": [
      "Based on the information provided, neither the given description nor the question mention any specific method of forecasting that uses averages to predict future weather. However, the provided description mentions the use of moving average and exponential smoothing for calculating seasonal indices. These methods can be used in time series forecasting, including weather forecasting, but they are not limited to using averages only.\n",
      "\n",
      "There are several methods used for weather forecasting, and some of them do use historical data and statistical techniques based on averages. For instance, historical mean temperature or precipitation can serve as a baseline for predicting future conditions. In this context, the term \"averages\" might be used to refer to historical values, but it's essential to understand that more sophisticated methods like regression analysis, autoregressive integrated moving average (ARIMA), and machine learning algorithms are also commonly employed in weather forecasting.\n",
      "\n",
      "Therefore, it's important to remember that while averages can be used as a tool in weather forecasting, there is no single method called \"the method of forecasting using averages.\" Instead, various methods may use historical data, statistical models, or machine learning algorithms, some of which might include the use of averages.\n"
     ]
    }
   ],
   "source": [
    "output = rag.rag_query(collection_title, prompt)\n",
    "print(output)"
   ]
  },
  {
   "cell_type": "code",
   "execution_count": null,
   "metadata": {},
   "outputs": [],
   "source": []
  }
 ],
 "metadata": {
  "kernelspec": {
   "display_name": ".venv",
   "language": "python",
   "name": "python3"
  },
  "language_info": {
   "codemirror_mode": {
    "name": "ipython",
    "version": 3
   },
   "file_extension": ".py",
   "mimetype": "text/x-python",
   "name": "python",
   "nbconvert_exporter": "python",
   "pygments_lexer": "ipython3",
   "version": "3.12.2"
  }
 },
 "nbformat": 4,
 "nbformat_minor": 2
}
