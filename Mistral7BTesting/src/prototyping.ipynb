{
 "cells": [
  {
   "cell_type": "code",
   "execution_count": 2,
   "metadata": {},
   "outputs": [
    {
     "name": "stderr",
     "output_type": "stream",
     "text": [
      "c:\\Users\\jaide\\Documents\\CodingProjects\\NeuroSymbolicAI\\Mistral7BTesting\\.venv\\Lib\\site-packages\\tqdm\\auto.py:21: TqdmWarning: IProgress not found. Please update jupyter and ipywidgets. See https://ipywidgets.readthedocs.io/en/stable/user_install.html\n",
      "  from .autonotebook import tqdm as notebook_tqdm\n"
     ]
    }
   ],
   "source": [
    "from transformers import pipeline"
   ]
  },
  {
   "cell_type": "code",
   "execution_count": 3,
   "metadata": {},
   "outputs": [
    {
     "ename": "ValueError",
     "evalue": "Could not load model TheBloke/Mistral-7B-Instruct-v0.1-AWQ with any of the following classes: (<class 'transformers.models.auto.modeling_auto.AutoModelForCausalLM'>, <class 'transformers.models.mistral.modeling_mistral.MistralForCausalLM'>). See the original errors:\n\nwhile loading with AutoModelForCausalLM, an error is thrown:\nTraceback (most recent call last):\n  File \"c:\\Users\\jaide\\Documents\\CodingProjects\\NeuroSymbolicAI\\Mistral7BTesting\\.venv\\Lib\\site-packages\\transformers\\pipelines\\base.py\", line 279, in infer_framework_load_model\n    model = model_class.from_pretrained(model, **kwargs)\n            ^^^^^^^^^^^^^^^^^^^^^^^^^^^^^^^^^^^^^^^^^^^^\n  File \"c:\\Users\\jaide\\Documents\\CodingProjects\\NeuroSymbolicAI\\Mistral7BTesting\\.venv\\Lib\\site-packages\\transformers\\models\\auto\\auto_factory.py\", line 563, in from_pretrained\n    return model_class.from_pretrained(\n           ^^^^^^^^^^^^^^^^^^^^^^^^^^^^\n  File \"c:\\Users\\jaide\\Documents\\CodingProjects\\NeuroSymbolicAI\\Mistral7BTesting\\.venv\\Lib\\site-packages\\transformers\\modeling_utils.py\", line 3039, in from_pretrained\n    config.quantization_config = AutoHfQuantizer.merge_quantization_configs(\n                                 ^^^^^^^^^^^^^^^^^^^^^^^^^^^^^^^^^^^^^^^^^^^\n  File \"c:\\Users\\jaide\\Documents\\CodingProjects\\NeuroSymbolicAI\\Mistral7BTesting\\.venv\\Lib\\site-packages\\transformers\\quantizers\\auto.py\", line 149, in merge_quantization_configs\n    quantization_config = AutoQuantizationConfig.from_dict(quantization_config)\n                          ^^^^^^^^^^^^^^^^^^^^^^^^^^^^^^^^^^^^^^^^^^^^^^^^^^^^^\n  File \"c:\\Users\\jaide\\Documents\\CodingProjects\\NeuroSymbolicAI\\Mistral7BTesting\\.venv\\Lib\\site-packages\\transformers\\quantizers\\auto.py\", line 79, in from_dict\n    return target_cls.from_dict(quantization_config_dict)\n           ^^^^^^^^^^^^^^^^^^^^^^^^^^^^^^^^^^^^^^^^^^^^^^\n  File \"c:\\Users\\jaide\\Documents\\CodingProjects\\NeuroSymbolicAI\\Mistral7BTesting\\.venv\\Lib\\site-packages\\transformers\\utils\\quantization_config.py\", line 94, in from_dict\n    config = cls(**config_dict)\n             ^^^^^^^^^^^^^^^^^^\n  File \"c:\\Users\\jaide\\Documents\\CodingProjects\\NeuroSymbolicAI\\Mistral7BTesting\\.venv\\Lib\\site-packages\\transformers\\utils\\quantization_config.py\", line 678, in __init__\n    self.post_init()\n  File \"c:\\Users\\jaide\\Documents\\CodingProjects\\NeuroSymbolicAI\\Mistral7BTesting\\.venv\\Lib\\site-packages\\transformers\\utils\\quantization_config.py\", line 685, in post_init\n    raise ValueError(\"AWQ is only available on GPU\")\nValueError: AWQ is only available on GPU\n\nwhile loading with MistralForCausalLM, an error is thrown:\nTraceback (most recent call last):\n  File \"c:\\Users\\jaide\\Documents\\CodingProjects\\NeuroSymbolicAI\\Mistral7BTesting\\.venv\\Lib\\site-packages\\transformers\\pipelines\\base.py\", line 279, in infer_framework_load_model\n    model = model_class.from_pretrained(model, **kwargs)\n            ^^^^^^^^^^^^^^^^^^^^^^^^^^^^^^^^^^^^^^^^^^^^\n  File \"c:\\Users\\jaide\\Documents\\CodingProjects\\NeuroSymbolicAI\\Mistral7BTesting\\.venv\\Lib\\site-packages\\transformers\\modeling_utils.py\", line 3039, in from_pretrained\n    config.quantization_config = AutoHfQuantizer.merge_quantization_configs(\n                                 ^^^^^^^^^^^^^^^^^^^^^^^^^^^^^^^^^^^^^^^^^^^\n  File \"c:\\Users\\jaide\\Documents\\CodingProjects\\NeuroSymbolicAI\\Mistral7BTesting\\.venv\\Lib\\site-packages\\transformers\\quantizers\\auto.py\", line 149, in merge_quantization_configs\n    quantization_config = AutoQuantizationConfig.from_dict(quantization_config)\n                          ^^^^^^^^^^^^^^^^^^^^^^^^^^^^^^^^^^^^^^^^^^^^^^^^^^^^^\n  File \"c:\\Users\\jaide\\Documents\\CodingProjects\\NeuroSymbolicAI\\Mistral7BTesting\\.venv\\Lib\\site-packages\\transformers\\quantizers\\auto.py\", line 79, in from_dict\n    return target_cls.from_dict(quantization_config_dict)\n           ^^^^^^^^^^^^^^^^^^^^^^^^^^^^^^^^^^^^^^^^^^^^^^\n  File \"c:\\Users\\jaide\\Documents\\CodingProjects\\NeuroSymbolicAI\\Mistral7BTesting\\.venv\\Lib\\site-packages\\transformers\\utils\\quantization_config.py\", line 94, in from_dict\n    config = cls(**config_dict)\n             ^^^^^^^^^^^^^^^^^^\n  File \"c:\\Users\\jaide\\Documents\\CodingProjects\\NeuroSymbolicAI\\Mistral7BTesting\\.venv\\Lib\\site-packages\\transformers\\utils\\quantization_config.py\", line 678, in __init__\n    self.post_init()\n  File \"c:\\Users\\jaide\\Documents\\CodingProjects\\NeuroSymbolicAI\\Mistral7BTesting\\.venv\\Lib\\site-packages\\transformers\\utils\\quantization_config.py\", line 685, in post_init\n    raise ValueError(\"AWQ is only available on GPU\")\nValueError: AWQ is only available on GPU\n\n\n",
     "output_type": "error",
     "traceback": [
      "\u001b[1;31m---------------------------------------------------------------------------\u001b[0m",
      "\u001b[1;31mValueError\u001b[0m                                Traceback (most recent call last)",
      "Cell \u001b[1;32mIn[3], line 2\u001b[0m\n\u001b[0;32m      1\u001b[0m \u001b[38;5;66;03m# pipe = pipeline(\"text-generation\", model=\"mistralai/Mistral-7B-Instruct-v0.2\", framework = \"pt\") mistral 7b normal\u001b[39;00m\n\u001b[1;32m----> 2\u001b[0m pipe \u001b[38;5;241m=\u001b[39m \u001b[43mpipeline\u001b[49m\u001b[43m(\u001b[49m\u001b[38;5;124;43m\"\u001b[39;49m\u001b[38;5;124;43mtext-generation\u001b[39;49m\u001b[38;5;124;43m\"\u001b[39;49m\u001b[43m,\u001b[49m\u001b[43m \u001b[49m\u001b[43mmodel\u001b[49m\u001b[38;5;241;43m=\u001b[39;49m\u001b[38;5;124;43m\"\u001b[39;49m\u001b[38;5;124;43mTheBloke/Mistral-7B-Instruct-v0.1-AWQ\u001b[39;49m\u001b[38;5;124;43m\"\u001b[39;49m\u001b[43m)\u001b[49m\n",
      "File \u001b[1;32mc:\\Users\\jaide\\Documents\\CodingProjects\\NeuroSymbolicAI\\Mistral7BTesting\\.venv\\Lib\\site-packages\\transformers\\pipelines\\__init__.py:905\u001b[0m, in \u001b[0;36mpipeline\u001b[1;34m(task, model, config, tokenizer, feature_extractor, image_processor, framework, revision, use_fast, token, device, device_map, torch_dtype, trust_remote_code, model_kwargs, pipeline_class, **kwargs)\u001b[0m\n\u001b[0;32m    903\u001b[0m \u001b[38;5;28;01mif\u001b[39;00m \u001b[38;5;28misinstance\u001b[39m(model, \u001b[38;5;28mstr\u001b[39m) \u001b[38;5;129;01mor\u001b[39;00m framework \u001b[38;5;129;01mis\u001b[39;00m \u001b[38;5;28;01mNone\u001b[39;00m:\n\u001b[0;32m    904\u001b[0m     model_classes \u001b[38;5;241m=\u001b[39m {\u001b[38;5;124m\"\u001b[39m\u001b[38;5;124mtf\u001b[39m\u001b[38;5;124m\"\u001b[39m: targeted_task[\u001b[38;5;124m\"\u001b[39m\u001b[38;5;124mtf\u001b[39m\u001b[38;5;124m\"\u001b[39m], \u001b[38;5;124m\"\u001b[39m\u001b[38;5;124mpt\u001b[39m\u001b[38;5;124m\"\u001b[39m: targeted_task[\u001b[38;5;124m\"\u001b[39m\u001b[38;5;124mpt\u001b[39m\u001b[38;5;124m\"\u001b[39m]}\n\u001b[1;32m--> 905\u001b[0m     framework, model \u001b[38;5;241m=\u001b[39m \u001b[43minfer_framework_load_model\u001b[49m\u001b[43m(\u001b[49m\n\u001b[0;32m    906\u001b[0m \u001b[43m        \u001b[49m\u001b[43mmodel\u001b[49m\u001b[43m,\u001b[49m\n\u001b[0;32m    907\u001b[0m \u001b[43m        \u001b[49m\u001b[43mmodel_classes\u001b[49m\u001b[38;5;241;43m=\u001b[39;49m\u001b[43mmodel_classes\u001b[49m\u001b[43m,\u001b[49m\n\u001b[0;32m    908\u001b[0m \u001b[43m        \u001b[49m\u001b[43mconfig\u001b[49m\u001b[38;5;241;43m=\u001b[39;49m\u001b[43mconfig\u001b[49m\u001b[43m,\u001b[49m\n\u001b[0;32m    909\u001b[0m \u001b[43m        \u001b[49m\u001b[43mframework\u001b[49m\u001b[38;5;241;43m=\u001b[39;49m\u001b[43mframework\u001b[49m\u001b[43m,\u001b[49m\n\u001b[0;32m    910\u001b[0m \u001b[43m        \u001b[49m\u001b[43mtask\u001b[49m\u001b[38;5;241;43m=\u001b[39;49m\u001b[43mtask\u001b[49m\u001b[43m,\u001b[49m\n\u001b[0;32m    911\u001b[0m \u001b[43m        \u001b[49m\u001b[38;5;241;43m*\u001b[39;49m\u001b[38;5;241;43m*\u001b[39;49m\u001b[43mhub_kwargs\u001b[49m\u001b[43m,\u001b[49m\n\u001b[0;32m    912\u001b[0m \u001b[43m        \u001b[49m\u001b[38;5;241;43m*\u001b[39;49m\u001b[38;5;241;43m*\u001b[39;49m\u001b[43mmodel_kwargs\u001b[49m\u001b[43m,\u001b[49m\n\u001b[0;32m    913\u001b[0m \u001b[43m    \u001b[49m\u001b[43m)\u001b[49m\n\u001b[0;32m    915\u001b[0m model_config \u001b[38;5;241m=\u001b[39m model\u001b[38;5;241m.\u001b[39mconfig\n\u001b[0;32m    916\u001b[0m hub_kwargs[\u001b[38;5;124m\"\u001b[39m\u001b[38;5;124m_commit_hash\u001b[39m\u001b[38;5;124m\"\u001b[39m] \u001b[38;5;241m=\u001b[39m model\u001b[38;5;241m.\u001b[39mconfig\u001b[38;5;241m.\u001b[39m_commit_hash\n",
      "File \u001b[1;32mc:\\Users\\jaide\\Documents\\CodingProjects\\NeuroSymbolicAI\\Mistral7BTesting\\.venv\\Lib\\site-packages\\transformers\\pipelines\\base.py:292\u001b[0m, in \u001b[0;36minfer_framework_load_model\u001b[1;34m(model, config, model_classes, task, framework, **model_kwargs)\u001b[0m\n\u001b[0;32m    290\u001b[0m         \u001b[38;5;28;01mfor\u001b[39;00m class_name, trace \u001b[38;5;129;01min\u001b[39;00m all_traceback\u001b[38;5;241m.\u001b[39mitems():\n\u001b[0;32m    291\u001b[0m             error \u001b[38;5;241m+\u001b[39m\u001b[38;5;241m=\u001b[39m \u001b[38;5;124mf\u001b[39m\u001b[38;5;124m\"\u001b[39m\u001b[38;5;124mwhile loading with \u001b[39m\u001b[38;5;132;01m{\u001b[39;00mclass_name\u001b[38;5;132;01m}\u001b[39;00m\u001b[38;5;124m, an error is thrown:\u001b[39m\u001b[38;5;130;01m\\n\u001b[39;00m\u001b[38;5;132;01m{\u001b[39;00mtrace\u001b[38;5;132;01m}\u001b[39;00m\u001b[38;5;130;01m\\n\u001b[39;00m\u001b[38;5;124m\"\u001b[39m\n\u001b[1;32m--> 292\u001b[0m         \u001b[38;5;28;01mraise\u001b[39;00m \u001b[38;5;167;01mValueError\u001b[39;00m(\n\u001b[0;32m    293\u001b[0m             \u001b[38;5;124mf\u001b[39m\u001b[38;5;124m\"\u001b[39m\u001b[38;5;124mCould not load model \u001b[39m\u001b[38;5;132;01m{\u001b[39;00mmodel\u001b[38;5;132;01m}\u001b[39;00m\u001b[38;5;124m with any of the following classes: \u001b[39m\u001b[38;5;132;01m{\u001b[39;00mclass_tuple\u001b[38;5;132;01m}\u001b[39;00m\u001b[38;5;124m. See the original errors:\u001b[39m\u001b[38;5;130;01m\\n\u001b[39;00m\u001b[38;5;130;01m\\n\u001b[39;00m\u001b[38;5;132;01m{\u001b[39;00merror\u001b[38;5;132;01m}\u001b[39;00m\u001b[38;5;130;01m\\n\u001b[39;00m\u001b[38;5;124m\"\u001b[39m\n\u001b[0;32m    294\u001b[0m         )\n\u001b[0;32m    296\u001b[0m \u001b[38;5;28;01mif\u001b[39;00m framework \u001b[38;5;129;01mis\u001b[39;00m \u001b[38;5;28;01mNone\u001b[39;00m:\n\u001b[0;32m    297\u001b[0m     framework \u001b[38;5;241m=\u001b[39m infer_framework(model\u001b[38;5;241m.\u001b[39m\u001b[38;5;18m__class__\u001b[39m)\n",
      "\u001b[1;31mValueError\u001b[0m: Could not load model TheBloke/Mistral-7B-Instruct-v0.1-AWQ with any of the following classes: (<class 'transformers.models.auto.modeling_auto.AutoModelForCausalLM'>, <class 'transformers.models.mistral.modeling_mistral.MistralForCausalLM'>). See the original errors:\n\nwhile loading with AutoModelForCausalLM, an error is thrown:\nTraceback (most recent call last):\n  File \"c:\\Users\\jaide\\Documents\\CodingProjects\\NeuroSymbolicAI\\Mistral7BTesting\\.venv\\Lib\\site-packages\\transformers\\pipelines\\base.py\", line 279, in infer_framework_load_model\n    model = model_class.from_pretrained(model, **kwargs)\n            ^^^^^^^^^^^^^^^^^^^^^^^^^^^^^^^^^^^^^^^^^^^^\n  File \"c:\\Users\\jaide\\Documents\\CodingProjects\\NeuroSymbolicAI\\Mistral7BTesting\\.venv\\Lib\\site-packages\\transformers\\models\\auto\\auto_factory.py\", line 563, in from_pretrained\n    return model_class.from_pretrained(\n           ^^^^^^^^^^^^^^^^^^^^^^^^^^^^\n  File \"c:\\Users\\jaide\\Documents\\CodingProjects\\NeuroSymbolicAI\\Mistral7BTesting\\.venv\\Lib\\site-packages\\transformers\\modeling_utils.py\", line 3039, in from_pretrained\n    config.quantization_config = AutoHfQuantizer.merge_quantization_configs(\n                                 ^^^^^^^^^^^^^^^^^^^^^^^^^^^^^^^^^^^^^^^^^^^\n  File \"c:\\Users\\jaide\\Documents\\CodingProjects\\NeuroSymbolicAI\\Mistral7BTesting\\.venv\\Lib\\site-packages\\transformers\\quantizers\\auto.py\", line 149, in merge_quantization_configs\n    quantization_config = AutoQuantizationConfig.from_dict(quantization_config)\n                          ^^^^^^^^^^^^^^^^^^^^^^^^^^^^^^^^^^^^^^^^^^^^^^^^^^^^^\n  File \"c:\\Users\\jaide\\Documents\\CodingProjects\\NeuroSymbolicAI\\Mistral7BTesting\\.venv\\Lib\\site-packages\\transformers\\quantizers\\auto.py\", line 79, in from_dict\n    return target_cls.from_dict(quantization_config_dict)\n           ^^^^^^^^^^^^^^^^^^^^^^^^^^^^^^^^^^^^^^^^^^^^^^\n  File \"c:\\Users\\jaide\\Documents\\CodingProjects\\NeuroSymbolicAI\\Mistral7BTesting\\.venv\\Lib\\site-packages\\transformers\\utils\\quantization_config.py\", line 94, in from_dict\n    config = cls(**config_dict)\n             ^^^^^^^^^^^^^^^^^^\n  File \"c:\\Users\\jaide\\Documents\\CodingProjects\\NeuroSymbolicAI\\Mistral7BTesting\\.venv\\Lib\\site-packages\\transformers\\utils\\quantization_config.py\", line 678, in __init__\n    self.post_init()\n  File \"c:\\Users\\jaide\\Documents\\CodingProjects\\NeuroSymbolicAI\\Mistral7BTesting\\.venv\\Lib\\site-packages\\transformers\\utils\\quantization_config.py\", line 685, in post_init\n    raise ValueError(\"AWQ is only available on GPU\")\nValueError: AWQ is only available on GPU\n\nwhile loading with MistralForCausalLM, an error is thrown:\nTraceback (most recent call last):\n  File \"c:\\Users\\jaide\\Documents\\CodingProjects\\NeuroSymbolicAI\\Mistral7BTesting\\.venv\\Lib\\site-packages\\transformers\\pipelines\\base.py\", line 279, in infer_framework_load_model\n    model = model_class.from_pretrained(model, **kwargs)\n            ^^^^^^^^^^^^^^^^^^^^^^^^^^^^^^^^^^^^^^^^^^^^\n  File \"c:\\Users\\jaide\\Documents\\CodingProjects\\NeuroSymbolicAI\\Mistral7BTesting\\.venv\\Lib\\site-packages\\transformers\\modeling_utils.py\", line 3039, in from_pretrained\n    config.quantization_config = AutoHfQuantizer.merge_quantization_configs(\n                                 ^^^^^^^^^^^^^^^^^^^^^^^^^^^^^^^^^^^^^^^^^^^\n  File \"c:\\Users\\jaide\\Documents\\CodingProjects\\NeuroSymbolicAI\\Mistral7BTesting\\.venv\\Lib\\site-packages\\transformers\\quantizers\\auto.py\", line 149, in merge_quantization_configs\n    quantization_config = AutoQuantizationConfig.from_dict(quantization_config)\n                          ^^^^^^^^^^^^^^^^^^^^^^^^^^^^^^^^^^^^^^^^^^^^^^^^^^^^^\n  File \"c:\\Users\\jaide\\Documents\\CodingProjects\\NeuroSymbolicAI\\Mistral7BTesting\\.venv\\Lib\\site-packages\\transformers\\quantizers\\auto.py\", line 79, in from_dict\n    return target_cls.from_dict(quantization_config_dict)\n           ^^^^^^^^^^^^^^^^^^^^^^^^^^^^^^^^^^^^^^^^^^^^^^\n  File \"c:\\Users\\jaide\\Documents\\CodingProjects\\NeuroSymbolicAI\\Mistral7BTesting\\.venv\\Lib\\site-packages\\transformers\\utils\\quantization_config.py\", line 94, in from_dict\n    config = cls(**config_dict)\n             ^^^^^^^^^^^^^^^^^^\n  File \"c:\\Users\\jaide\\Documents\\CodingProjects\\NeuroSymbolicAI\\Mistral7BTesting\\.venv\\Lib\\site-packages\\transformers\\utils\\quantization_config.py\", line 678, in __init__\n    self.post_init()\n  File \"c:\\Users\\jaide\\Documents\\CodingProjects\\NeuroSymbolicAI\\Mistral7BTesting\\.venv\\Lib\\site-packages\\transformers\\utils\\quantization_config.py\", line 685, in post_init\n    raise ValueError(\"AWQ is only available on GPU\")\nValueError: AWQ is only available on GPU\n\n\n"
     ]
    }
   ],
   "source": [
    "# pipe = pipeline(\"text-generation\", model=\"mistralai/Mistral-7B-Instruct-v0.2\", framework = \"pt\") mistral 7b normal\n",
    "pipe = pipeline(\"text-generation\", model=\"TheBloke/Mistral-7B-Instruct-v0.1-AWQ\")"
   ]
  },
  {
   "cell_type": "code",
   "execution_count": 4,
   "metadata": {},
   "outputs": [
    {
     "name": "stderr",
     "output_type": "stream",
     "text": [
      "Setting `pad_token_id` to `eos_token_id`:2 for open-end generation.\n",
      "c:\\Users\\jaide\\Documents\\CodingProjects\\NeuroSymbolicAI\\Mistral7BTesting\\.venv\\Lib\\site-packages\\transformers\\generation\\utils.py:1132: UserWarning: Using the model-agnostic default `max_length` (=20) to control the generation length. We recommend setting `max_new_tokens` to control the maximum length of the generation.\n",
      "  warnings.warn(\n",
      "Setting `pad_token_id` to `eos_token_id`:2 for open-end generation.\n"
     ]
    },
    {
     "name": "stdout",
     "output_type": "stream",
     "text": [
      "[[{'generated_text': \"What is your favorite condiment?\\n\\nI love ketchup! It's a classic\"}], [{'generated_text': 'What is 10x10^12 in scientific notation?\\nAnswer: '}]]\n"
     ]
    }
   ],
   "source": [
    "inputs = [\n",
    "    \"What is your favorite condiment\",\n",
    "    \"What is 10x10\"\n",
    "]\n",
    "outputs = pipe(inputs)\n",
    "print(outputs) # took 16 minutes just to get a response"
   ]
  },
  {
   "cell_type": "code",
   "execution_count": null,
   "metadata": {},
   "outputs": [],
   "source": []
  }
 ],
 "metadata": {
  "kernelspec": {
   "display_name": ".venv",
   "language": "python",
   "name": "python3"
  },
  "language_info": {
   "codemirror_mode": {
    "name": "ipython",
    "version": 3
   },
   "file_extension": ".py",
   "mimetype": "text/x-python",
   "name": "python",
   "nbconvert_exporter": "python",
   "pygments_lexer": "ipython3",
   "version": "3.12.2"
  }
 },
 "nbformat": 4,
 "nbformat_minor": 2
}
