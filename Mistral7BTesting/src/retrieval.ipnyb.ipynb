{
 "cells": [
  {
   "cell_type": "code",
   "execution_count": 1,
   "metadata": {},
   "outputs": [
    {
     "name": "stderr",
     "output_type": "stream",
     "text": [
      "c:\\Users\\jaide\\Documents\\CodingProjects\\NeuroSymbolicAI\\.venv\\Lib\\site-packages\\tqdm\\auto.py:21: TqdmWarning: IProgress not found. Please update jupyter and ipywidgets. See https://ipywidgets.readthedocs.io/en/stable/user_install.html\n",
      "  from .autonotebook import tqdm as notebook_tqdm\n"
     ]
    }
   ],
   "source": [
    "from sklearn.feature_extraction.text import TfidfVectorizer\n",
    "from sklearn.metrics.pairwise import cosine_similarity\n",
    "from datasets import load_dataset\n",
    "import chromadb"
   ]
  },
  {
   "cell_type": "code",
   "execution_count": 2,
   "metadata": {},
   "outputs": [],
   "source": [
    "# This should work, but this would require you to recreate a TFIDF matrix for every query, which is not efficient\n",
    "def retrieve_documents(query, documents, num_results=5):\n",
    "    vectorizer = TfidfVectorizer()\n",
    "    tfidf_matrix = vectorizer.fit_transform(documents + [query])\n",
    "    cosine_similarities = cosine_similarity(tfidf_matrix[-1], tfidf_matrix[:-1])\n",
    "    # magnitude doesn't matter for text embeddings usually, only orientation does, so use cosine similarity\n",
    "    top_indices = cosine_similarities.argsort()[-num_results:][::-1]\n",
    "    return [documents[i] for i in top_indices]"
   ]
  },
  {
   "cell_type": "code",
   "execution_count": 3,
   "metadata": {},
   "outputs": [],
   "source": [
    "# I can use ChromaDB, since ChromaDB has their own built in vector similarity/search feature\n",
    "class DocumentDB:\n",
    "    def __init__(self):\n",
    "        self.db = chromadb.Client()\n",
    "        self.num_docs = 0\n",
    "\n",
    "    def add_collection(self, name):\n",
    "        self.db.get_or_create_collection(name)\n",
    "\n",
    "    def add_documents(self, collection, docs):\n",
    "        ids = [str(i) for i in range(self.num_docs, self.num_docs + len(docs))]\n",
    "        self.db.get_collection(collection).add(documents = docs, ids = ids)\n",
    "        self.num_docs += len(docs)\n",
    "        \n",
    "    def retrieve_documents(self, collection, prompt, num_documents=3):\n",
    "        return self.db.get_collection(collection).query(query_texts = prompt, n_results=num_documents)"
   ]
  },
  {
   "cell_type": "code",
   "execution_count": 4,
   "metadata": {},
   "outputs": [],
   "source": [
    "test_db = DocumentDB()\n",
    "test_db.add_collection(name=\"Test\")\n"
   ]
  },
  {
   "cell_type": "code",
   "execution_count": 5,
   "metadata": {},
   "outputs": [],
   "source": [
    "\n",
    "docs = [\"Roblox (/ˈroʊblɒks/ ROH-bloks) is an online game platform and game creation system developed by Roblox Corporation that allows users to program and play games created by themselves or other users.\",\n",
    "        \"Roblox was created by David Baszucki and Erik Cassel in 2004 and released in 2006, the platform hosts user-created games of multiple genres coded in the programming language Lua.\",\n",
    "        \"Roblox is free to play, with in-game purchases available through a virtual currency called Robux. As of August 2020, Roblox had over 164 million monthly active users, including more than half of all American children under 16.[12][13] Although Roblox has received generally positive reviews from critics, it has faced criticism for its moderation, microtransactions, and allegations of exploitative practices toward children\",\n",
    "        \"Roblox allows players to create their own games using its proprietary engine, Roblox Studio, which can then be played by other users.[14] Games, officially referred to as 'experiences' on the platform, are made with a derivative of the language Lua named Luau.[15][16] Users are able to create purchasable content through one-time purchases, known as 'game passes', as well as microtransactions which can be purchased more than once, known as 'developer products' or 'products'.[17][18] The majority of games produced using Roblox Studio are developed by minors, and a total of 20 million games a year are produced using it\",\n",
    "        \"Roblox allows players to buy, sell, and create virtual items which can be used to decorate their virtual character that serves as their avatar on the platform.[12] Previously, only Roblox administrators had the ability to sell accessories, body parts, gear, and packages under the official Roblox user account,[20] with virtual hats and accessories also being able to be published by a select few users with past experience working with Roblox Corporation.[21][22]\"]\n",
    "\n",
    "\n",
    "\n",
    "test_db.add_documents(collection=\"Test\", docs = docs)"
   ]
  },
  {
   "cell_type": "code",
   "execution_count": 6,
   "metadata": {},
   "outputs": [],
   "source": [
    "question = \"Who created Roblox?\"\n",
    "res = test_db.retrieve_documents(collection=\"Test\", prompt=question, num_documents=1) # cosine similarity"
   ]
  },
  {
   "cell_type": "code",
   "execution_count": 7,
   "metadata": {},
   "outputs": [
    {
     "name": "stdout",
     "output_type": "stream",
     "text": [
      "{'ids': [['1']], 'distances': [[0.38205447793006897]], 'metadatas': [[None]], 'embeddings': None, 'documents': [['Roblox was created by David Baszucki and Erik Cassel in 2004 and released in 2006, the platform hosts user-created games of multiple genres coded in the programming language Lua.']], 'uris': None, 'data': None}\n"
     ]
    }
   ],
   "source": [
    "print(res)\n",
    "# finds the documents really fast, but installing the model takes time; took about 1 minute to install the embedding model for ChromaDB\n",
    "# but after that, it is able to add and searhc instantaneously"
   ]
  },
  {
   "cell_type": "code",
   "execution_count": 8,
   "metadata": {},
   "outputs": [],
   "source": [
    "from huggingface_hub import hf_hub_download\n",
    "from llama_cpp import Llama\n",
    "\n",
    "# Install the model\n",
    "model_name = \"TheBloke/Mistral-7B-Instruct-v0.2-GGUF\"\n",
    "model_file = \"mistral-7b-instruct-v0.2.Q2_K.gguf\"\n",
    "model_path = hf_hub_download(model_name, filename=model_file)\n",
    "\n",
    "llm = Llama(\n",
    "    model_path = model_path,\n",
    "    n_ctx=2048\n",
    ")\n",
    "\n",
    "context = \"\\n\".join(res[\"documents\"][0])\n",
    "input = f\"Here is some context:{context} Q: Who created Roblox? A: \"\n",
    "output = llm(\n",
    "    prompt = input,\n",
    "    max_tokens = 100,\n",
    "    stop = [\"Q:\"],\n",
    "    echo=False\n",
    ")\n",
    "print(output)\n",
    "# took 35.8 seconds to generate the output given 1 document (about a sentence long) as context\n",
    "# can def do better prompt engineering to get a better result, but it works pretty well\n",
    "\n",
    "print(output['choices'])"
   ]
  }
 ],
 "metadata": {
  "kernelspec": {
   "display_name": ".venv",
   "language": "python",
   "name": "python3"
  },
  "language_info": {
   "codemirror_mode": {
    "name": "ipython",
    "version": 3
   },
   "file_extension": ".py",
   "mimetype": "text/x-python",
   "name": "python",
   "nbconvert_exporter": "python",
   "pygments_lexer": "ipython3",
   "version": "3.12.2"
  }
 },
 "nbformat": 4,
 "nbformat_minor": 2
}
