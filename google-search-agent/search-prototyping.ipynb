{
 "cells": [
  {
   "cell_type": "code",
   "execution_count": 1,
   "metadata": {},
   "outputs": [
    {
     "name": "stderr",
     "output_type": "stream",
     "text": [
      "c:\\Users\\jaide\\Documents\\CodingProjects\\NeuroSymbolicAI\\.venv\\Lib\\site-packages\\tqdm\\auto.py:21: TqdmWarning: IProgress not found. Please update jupyter and ipywidgets. See https://ipywidgets.readthedocs.io/en/stable/user_install.html\n",
      "  from .autonotebook import tqdm as notebook_tqdm\n"
     ]
    },
    {
     "data": {
      "text/plain": [
       "True"
      ]
     },
     "execution_count": 1,
     "metadata": {},
     "output_type": "execute_result"
    }
   ],
   "source": [
    "from llama_cpp import Llama\n",
    "from huggingface_hub import hf_hub_download\n",
    "import json\n",
    "import re\n",
    "from dotenv import load_dotenv\n",
    "import os\n",
    "import requests\n",
    "load_dotenv()"
   ]
  },
  {
   "cell_type": "code",
   "execution_count": 2,
   "metadata": {},
   "outputs": [],
   "source": [
    "GCP_API_KEY = os.getenv(\"GOOGLE_CLOUD_API_KEY\")\n",
    "SEARCH_ENGINE_ID = os.getenv(\"SEARCH_ENGINE_ID\")\n",
    "base_url = \"https://www.googleapis.com/customsearch/v1?\""
   ]
  },
  {
   "cell_type": "code",
   "execution_count": 13,
   "metadata": {},
   "outputs": [],
   "source": [
    "params = {\n",
    "    \"key\": GCP_API_KEY,\n",
    "    \"cx\": SEARCH_ENGINE_ID,\n",
    "    \"q\": \"Who is the current president of the United States?\"\n",
    "}\n",
    "res = requests.get(base_url, params)"
   ]
  },
  {
   "cell_type": "code",
   "execution_count": 30,
   "metadata": {},
   "outputs": [
    {
     "data": {
      "text/plain": [
       "{'kind': 'customsearch#result',\n",
       " 'title': 'Joe Biden: The President | The White House',\n",
       " 'htmlTitle': 'Joe Biden: The <b>President</b> | The White House',\n",
       " 'link': 'https://www.whitehouse.gov/administration/president-biden/',\n",
       " 'displayLink': 'www.whitehouse.gov',\n",
       " 'snippet': 'Joe Biden · A Leader in the Senate and 47th Vice President of the United States · The 46th President of the United States.',\n",
       " 'htmlSnippet': 'Joe Biden &middot; A Leader in the Senate and 47th Vice <b>President of the United States</b> &middot; The 46th <b>President of the United States</b>.',\n",
       " 'formattedUrl': 'https://www.whitehouse.gov/administration/president-biden/',\n",
       " 'htmlFormattedUrl': 'https://www.whitehouse.gov/administration/<b>president</b>-biden/',\n",
       " 'pagemap': {'cse_thumbnail': [{'src': 'https://encrypted-tbn0.gstatic.com/images?q=tbn:ANd9GcQq6rGaMCsIJkQNNuVM-ziWDQwQTJHxXiExdGvI8pUAsPg1twBiIiOFoWI&s',\n",
       "    'width': '259',\n",
       "    'height': '194'}],\n",
       "  'metatags': [{'application-name': 'The White House',\n",
       "    'og:image': 'https://www.whitehouse.gov/wp-content/uploads/2021/04/P20210303AS-1901-cropped.jpg',\n",
       "    'og:type': 'article',\n",
       "    'og:image:width': '2400',\n",
       "    'twitter:card': 'summary_large_image',\n",
       "    'og:site_name': 'The White House',\n",
       "    'og:title': 'Joe Biden: The President | The White House',\n",
       "    'apple-mobile-web-app-title': 'The White House',\n",
       "    'og:image:height': '1800',\n",
       "    'google': 'notranslate',\n",
       "    'og:image:type': 'image/jpeg',\n",
       "    'og:description': 'President Biden represented Delaware for 36 years in the U.S. Senate before becoming the 47th Vice President of the United States. As President, Biden will restore America’s leadership and build our communities back better.',\n",
       "    'article:publisher': 'https://www.facebook.com/WhiteHouse/',\n",
       "    'twitter:site': '@whitehouse',\n",
       "    'article:modified_time': '2024-06-11T13:02:26+00:00',\n",
       "    'viewport': 'width=device-width, initial-scale=1',\n",
       "    'og:locale': 'en_US',\n",
       "    'og:url': 'https://www.whitehouse.gov/administration/president-biden/'}],\n",
       "  'cse_image': [{'src': 'https://www.whitehouse.gov/wp-content/uploads/2021/04/P20210303AS-1901-cropped.jpg'}]}}"
      ]
     },
     "execution_count": 30,
     "metadata": {},
     "output_type": "execute_result"
    }
   ],
   "source": [
    "data = res.json()\n",
    "results = data[\"items\"]\n",
    "results[0]"
   ]
  },
  {
   "cell_type": "code",
   "execution_count": 31,
   "metadata": {},
   "outputs": [],
   "source": [
    "model_name = \"bartowski/Mistral-7B-Instruct-v0.3-GGUF\"\n",
    "model_file = \"Mistral-7B-Instruct-v0.3-Q4_K_M.gguf\"\n",
    "model_path = hf_hub_download(model_name, filename=model_file)\n",
    "model = Llama(\n",
    "    model_path = model_path,\n",
    "    n_ctx=32000,\n",
    "    verbose=False\n",
    ")"
   ]
  },
  {
   "cell_type": "code",
   "execution_count": 41,
   "metadata": {},
   "outputs": [],
   "source": [
    "search_prompt = \"\"\"\n",
    "You are a helpful assistant with only 1 job:\n",
    "1) Search the internet\n",
    "\n",
    "Always includes a THOUGHT, and a RESPONSE. Afterwards, return the PAUSE keyword.\n",
    "\n",
    "Whenever asked a question, break down the question step by step. Figure out what information you need to answer the question.\n",
    "\n",
    "###EXAMPLE 1:\n",
    "User: Who is the current president of the United States?\n",
    "\n",
    "THOUGHT: This is a simple question, I just need to look up who the current president of the United States is.\n",
    "RESPONSE: current president of the United States\n",
    "PAUSE\n",
    "###END EXAMPLE 1\n",
    "\n",
    "###EXAMPLE 2:\n",
    "User: What is the largest animal in the world?\n",
    "\n",
    "THOUGHT: I can simply look up the largest animal in the world\n",
    "RESPONSE: largest animal in the world\n",
    "PAUSE\n",
    "###END EXAMPLE 2\n",
    "\"\"\"\n",
    "answer_prompt = \"\"\"\n",
    "You are a helpful assistant with access to the provided context below. You may or may not need to use the provided context.\n",
    "\n",
    "Do not directly restate the context provided, but rather, rephrase the context into your own words and explain the context to the user.\n",
    "\"\"\""
   ]
  },
  {
   "cell_type": "code",
   "execution_count": 33,
   "metadata": {},
   "outputs": [
    {
     "name": "stdout",
     "output_type": "stream",
     "text": [
      "Current net worth of Elon Musk\n"
     ]
    }
   ],
   "source": [
    "query = \"How much is Elon Musk worth right now?\"\n",
    "prompt = f\"\"\"\n",
    "[SYSTEM]\n",
    "{search_prompt}\n",
    "\n",
    "[USER]\n",
    "{query}\n",
    "\n",
    "[ASSISTANT]\n",
    "THOUGHT: \n",
    "\"\"\"\n",
    "output = model(prompt, max_tokens=512, stop=[\"PAUSE\"])[\"choices\"][0][\"text\"]\n",
    "search_query = None\n",
    "for line in output.split(\"\\n\"):\n",
    "    response_regex = \"RESPONSE: (.*)\"\n",
    "    found_response = re.search(response_regex, line)\n",
    "    if found_response:\n",
    "        search_query = found_response.group(1)\n",
    "        break\n",
    "print(search_query)"
   ]
  },
  {
   "cell_type": "code",
   "execution_count": 39,
   "metadata": {},
   "outputs": [
    {
     "data": {
      "text/plain": [
       "[{'text': 'The wealth-tracking platform provides ongoing updates on the net worth and ranking of each individual confirmed by Forbes to be a billionaire ... Elon Musk. Tesla\\xa0...',\n",
       "  'source': 'www.forbes.com'},\n",
       " {'text': \"May 30, 2024 ... Elon Musk's net worth was reported at $202 billion as of late May 2024, according to Bloomberg's Billionaire Index. His shares in Tesla and\\xa0...\",\n",
       "  'source': 'www.thestreet.com'},\n",
       " {'text': 'Feb 7, 2024 ... Estimated net worth of $200 billion as of February 2024, making him the richest person in the world, according to Bloomberg. He is about $5\\xa0...',\n",
       "  'source': 'www.bankrate.com'}]"
      ]
     },
     "execution_count": 39,
     "metadata": {},
     "output_type": "execute_result"
    }
   ],
   "source": [
    "docs = []\n",
    "if (search_query):\n",
    "    params = {\n",
    "        \"key\": GCP_API_KEY,\n",
    "        \"cx\": SEARCH_ENGINE_ID,\n",
    "        \"q\": query\n",
    "    }\n",
    "    res = requests.get(base_url, params)\n",
    "    data = res.json()\n",
    "    items = data[\"items\"]\n",
    "    i = 0\n",
    "    while i < 3 and i < len(items):\n",
    "        docs.append({\"text\": items[i][\"snippet\"], \"source\": items[i][\"displayLink\"]})\n",
    "        i+=1\n",
    "docs"
   ]
  },
  {
   "cell_type": "code",
   "execution_count": 42,
   "metadata": {},
   "outputs": [
    {
     "data": {
      "text/plain": [
       "'As of late May 2024, Elon Musk has a reported net worth of $202 billion according to the Bloomberg Billionaire Index. Prior to that, in February 2024, he was estimated to have a net worth of around $200 billion, making him the richest person in the world at that time, according to Bloomberg as well. These numbers are based on his shares in companies like Tesla and others.'"
      ]
     },
     "execution_count": 42,
     "metadata": {},
     "output_type": "execute_result"
    }
   ],
   "source": [
    "prompt = f\"\"\"\n",
    "[SYSTEM]\n",
    "{answer_prompt}\n",
    "\n",
    "###CONTEXT:\n",
    "{docs}\n",
    "\n",
    "[USER]\n",
    "{query}\n",
    "\n",
    "[ASSISTANT]\n",
    "\"\"\"\n",
    "output = model(prompt, max_tokens=512, stop=[\"PAUSE\"])[\"choices\"][0][\"text\"]\n",
    "output"
   ]
  },
  {
   "cell_type": "code",
   "execution_count": 1,
   "metadata": {},
   "outputs": [
    {
     "name": "stderr",
     "output_type": "stream",
     "text": [
      "c:\\Users\\jaide\\Documents\\CodingProjects\\NeuroSymbolicAI\\.venv\\Lib\\site-packages\\tqdm\\auto.py:21: TqdmWarning: IProgress not found. Please update jupyter and ipywidgets. See https://ipywidgets.readthedocs.io/en/stable/user_install.html\n",
      "  from .autonotebook import tqdm as notebook_tqdm\n"
     ]
    }
   ],
   "source": [
    "from search_agent import SearchAgent"
   ]
  },
  {
   "cell_type": "code",
   "execution_count": 2,
   "metadata": {},
   "outputs": [],
   "source": [
    "agent = SearchAgent()"
   ]
  },
  {
   "cell_type": "code",
   "execution_count": 3,
   "metadata": {},
   "outputs": [
    {
     "name": "stdout",
     "output_type": "stream",
     "text": [
      "[{'text': 'How many people are there in the world? World population has reached 8 billion on November 15, 2022 according to the United Nations. World population live\\xa0...', 'source': 'www.worldometers.info'}, {'text': 'World Population ; 1. China, 1,416,043,270, 6. Nigeria, 236,747,130 ; 2. India, 1,409,128,296, 7. Brazil, 220,051,512 ; 3. United States, 336,673,595, 8.', 'source': 'www.census.gov'}, {'text': '8,117,934,855Current World Population ; 64,994,135Births this year ; 260,613Births today ; 35,584,976Net population growth this year ; 12,126,606,410Public\\xa0...', 'source': 'www.worldometers.info'}]\n",
      "Current human population\n",
      "According to the United Nations, as of November 15, 2022, there are around 8 billion people living on Earth. This number continues to grow with approximately 64,994,135 births expected this year and an estimated net population growth of about 35.5 million people for the year 2022. The countries with the highest population include China, India, Nigeria, United States, Brazil, respectively.\n"
     ]
    }
   ],
   "source": [
    "output = agent.query(\"What is the current human population?\", verbose=True)\n",
    "print(output)"
   ]
  },
  {
   "cell_type": "code",
   "execution_count": null,
   "metadata": {},
   "outputs": [],
   "source": []
  }
 ],
 "metadata": {
  "kernelspec": {
   "display_name": ".venv",
   "language": "python",
   "name": "python3"
  },
  "language_info": {
   "codemirror_mode": {
    "name": "ipython",
    "version": 3
   },
   "file_extension": ".py",
   "mimetype": "text/x-python",
   "name": "python",
   "nbconvert_exporter": "python",
   "pygments_lexer": "ipython3",
   "version": "3.12.2"
  }
 },
 "nbformat": 4,
 "nbformat_minor": 2
}
