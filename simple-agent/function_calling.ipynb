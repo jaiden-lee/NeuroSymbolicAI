{
 "cells": [
  {
   "cell_type": "code",
   "execution_count": 1,
   "metadata": {},
   "outputs": [
    {
     "name": "stderr",
     "output_type": "stream",
     "text": [
      "c:\\Users\\jaide\\Documents\\CodingProjects\\NeuroSymbolicAI\\.venv\\Lib\\site-packages\\tqdm\\auto.py:21: TqdmWarning: IProgress not found. Please update jupyter and ipywidgets. See https://ipywidgets.readthedocs.io/en/stable/user_install.html\n",
      "  from .autonotebook import tqdm as notebook_tqdm\n"
     ]
    }
   ],
   "source": [
    "from llama_cpp import Llama\n",
    "from llama_cpp.llama_tokenizer import LlamaHFTokenizer\n",
    "from huggingface_hub import hf_hub_download\n",
    "import openai"
   ]
  },
  {
   "cell_type": "code",
   "execution_count": 2,
   "metadata": {},
   "outputs": [
    {
     "name": "stderr",
     "output_type": "stream",
     "text": [
      "llama_model_loader: loaded meta data with 29 key-value pairs and 291 tensors from C:\\Users\\jaide\\.cache\\huggingface\\hub\\models--bartowski--Mistral-7B-Instruct-v0.3-GGUF\\snapshots\\61fd4167fff3ab01ee1cfe0da183fa27a944db48\\Mistral-7B-Instruct-v0.3-Q4_K_M.gguf (version GGUF V3 (latest))\n",
      "llama_model_loader: Dumping metadata keys/values. Note: KV overrides do not apply in this output.\n",
      "llama_model_loader: - kv   0:                       general.architecture str              = llama\n",
      "llama_model_loader: - kv   1:                               general.name str              = Mistral-7B-Instruct-v0.3\n",
      "llama_model_loader: - kv   2:                          llama.block_count u32              = 32\n",
      "llama_model_loader: - kv   3:                       llama.context_length u32              = 32768\n",
      "llama_model_loader: - kv   4:                     llama.embedding_length u32              = 4096\n",
      "llama_model_loader: - kv   5:                  llama.feed_forward_length u32              = 14336\n",
      "llama_model_loader: - kv   6:                 llama.attention.head_count u32              = 32\n",
      "llama_model_loader: - kv   7:              llama.attention.head_count_kv u32              = 8\n",
      "llama_model_loader: - kv   8:                       llama.rope.freq_base f32              = 1000000.000000\n",
      "llama_model_loader: - kv   9:     llama.attention.layer_norm_rms_epsilon f32              = 0.000010\n",
      "llama_model_loader: - kv  10:                          general.file_type u32              = 15\n",
      "llama_model_loader: - kv  11:                           llama.vocab_size u32              = 32768\n",
      "llama_model_loader: - kv  12:                 llama.rope.dimension_count u32              = 128\n",
      "llama_model_loader: - kv  13:                       tokenizer.ggml.model str              = llama\n",
      "llama_model_loader: - kv  14:                         tokenizer.ggml.pre str              = default\n",
      "llama_model_loader: - kv  15:                      tokenizer.ggml.tokens arr[str,32768]   = [\"<unk>\", \"<s>\", \"</s>\", \"[INST]\", \"[...\n",
      "llama_model_loader: - kv  16:                      tokenizer.ggml.scores arr[f32,32768]   = [0.000000, 0.000000, 0.000000, 0.0000...\n",
      "llama_model_loader: - kv  17:                  tokenizer.ggml.token_type arr[i32,32768]   = [2, 3, 3, 3, 3, 3, 3, 3, 3, 3, 3, 3, ...\n",
      "llama_model_loader: - kv  18:                tokenizer.ggml.bos_token_id u32              = 1\n",
      "llama_model_loader: - kv  19:                tokenizer.ggml.eos_token_id u32              = 2\n",
      "llama_model_loader: - kv  20:            tokenizer.ggml.unknown_token_id u32              = 0\n",
      "llama_model_loader: - kv  21:               tokenizer.ggml.add_bos_token bool             = true\n",
      "llama_model_loader: - kv  22:               tokenizer.ggml.add_eos_token bool             = false\n",
      "llama_model_loader: - kv  23:                    tokenizer.chat_template str              = {{ bos_token }}{% for message in mess...\n",
      "llama_model_loader: - kv  24:               general.quantization_version u32              = 2\n",
      "llama_model_loader: - kv  25:                      quantize.imatrix.file str              = /models/Mistral-7B-Instruct-v0.3-GGUF...\n",
      "llama_model_loader: - kv  26:                   quantize.imatrix.dataset str              = /training_data/calibration_data.txt\n",
      "llama_model_loader: - kv  27:             quantize.imatrix.entries_count i32              = 224\n",
      "llama_model_loader: - kv  28:              quantize.imatrix.chunks_count i32              = 228\n",
      "llama_model_loader: - type  f32:   65 tensors\n",
      "llama_model_loader: - type q4_K:  193 tensors\n",
      "llama_model_loader: - type q6_K:   33 tensors\n",
      "llm_load_vocab: special tokens cache size = 1027\n",
      "llm_load_vocab: token to piece cache size = 0.1731 MB\n",
      "llm_load_print_meta: format           = GGUF V3 (latest)\n",
      "llm_load_print_meta: arch             = llama\n",
      "llm_load_print_meta: vocab type       = SPM\n",
      "llm_load_print_meta: n_vocab          = 32768\n",
      "llm_load_print_meta: n_merges         = 0\n",
      "llm_load_print_meta: n_ctx_train      = 32768\n",
      "llm_load_print_meta: n_embd           = 4096\n",
      "llm_load_print_meta: n_head           = 32\n",
      "llm_load_print_meta: n_head_kv        = 8\n",
      "llm_load_print_meta: n_layer          = 32\n",
      "llm_load_print_meta: n_rot            = 128\n",
      "llm_load_print_meta: n_embd_head_k    = 128\n",
      "llm_load_print_meta: n_embd_head_v    = 128\n",
      "llm_load_print_meta: n_gqa            = 4\n",
      "llm_load_print_meta: n_embd_k_gqa     = 1024\n",
      "llm_load_print_meta: n_embd_v_gqa     = 1024\n",
      "llm_load_print_meta: f_norm_eps       = 0.0e+00\n",
      "llm_load_print_meta: f_norm_rms_eps   = 1.0e-05\n",
      "llm_load_print_meta: f_clamp_kqv      = 0.0e+00\n",
      "llm_load_print_meta: f_max_alibi_bias = 0.0e+00\n",
      "llm_load_print_meta: f_logit_scale    = 0.0e+00\n",
      "llm_load_print_meta: n_ff             = 14336\n",
      "llm_load_print_meta: n_expert         = 0\n",
      "llm_load_print_meta: n_expert_used    = 0\n",
      "llm_load_print_meta: causal attn      = 1\n",
      "llm_load_print_meta: pooling type     = 0\n",
      "llm_load_print_meta: rope type        = 0\n",
      "llm_load_print_meta: rope scaling     = linear\n",
      "llm_load_print_meta: freq_base_train  = 1000000.0\n",
      "llm_load_print_meta: freq_scale_train = 1\n",
      "llm_load_print_meta: n_ctx_orig_yarn  = 32768\n",
      "llm_load_print_meta: rope_finetuned   = unknown\n",
      "llm_load_print_meta: ssm_d_conv       = 0\n",
      "llm_load_print_meta: ssm_d_inner      = 0\n",
      "llm_load_print_meta: ssm_d_state      = 0\n",
      "llm_load_print_meta: ssm_dt_rank      = 0\n",
      "llm_load_print_meta: model type       = 7B\n",
      "llm_load_print_meta: model ftype      = Q4_K - Medium\n",
      "llm_load_print_meta: model params     = 7.25 B\n",
      "llm_load_print_meta: model size       = 4.07 GiB (4.83 BPW) \n",
      "llm_load_print_meta: general.name     = Mistral-7B-Instruct-v0.3\n",
      "llm_load_print_meta: BOS token        = 1 '<s>'\n",
      "llm_load_print_meta: EOS token        = 2 '</s>'\n",
      "llm_load_print_meta: UNK token        = 0 '<unk>'\n",
      "llm_load_print_meta: LF token         = 781 '<0x0A>'\n",
      "llm_load_tensors: ggml ctx size =    0.15 MiB\n",
      "llm_load_tensors:        CPU buffer size =  4169.52 MiB\n",
      "................................................................................................\n",
      "llama_new_context_with_model: n_ctx      = 32000\n",
      "llama_new_context_with_model: n_batch    = 512\n",
      "llama_new_context_with_model: n_ubatch   = 512\n",
      "llama_new_context_with_model: flash_attn = 0\n",
      "llama_new_context_with_model: freq_base  = 1000000.0\n",
      "llama_new_context_with_model: freq_scale = 1\n",
      "llama_kv_cache_init:        CPU KV buffer size =  4000.00 MiB\n",
      "llama_new_context_with_model: KV self size  = 4000.00 MiB, K (f16): 2000.00 MiB, V (f16): 2000.00 MiB\n",
      "llama_new_context_with_model:        CPU  output buffer size =     0.13 MiB\n",
      "llama_new_context_with_model:        CPU compute buffer size =  2094.51 MiB\n",
      "llama_new_context_with_model: graph nodes  = 1030\n",
      "llama_new_context_with_model: graph splits = 1\n",
      "AVX = 1 | AVX_VNNI = 0 | AVX2 = 1 | AVX512 = 0 | AVX512_VBMI = 0 | AVX512_VNNI = 0 | AVX512_BF16 = 0 | FMA = 1 | NEON = 0 | SVE = 0 | ARM_FMA = 0 | F16C = 1 | FP16_VA = 0 | WASM_SIMD = 0 | BLAS = 0 | SSE3 = 1 | SSSE3 = 1 | VSX = 0 | MATMUL_INT8 = 0 | LLAMAFILE = 1 | \n",
      "Model metadata: {'general.name': 'Mistral-7B-Instruct-v0.3', 'general.architecture': 'llama', 'llama.block_count': '32', 'llama.context_length': '32768', 'tokenizer.ggml.eos_token_id': '2', 'general.file_type': '15', 'llama.attention.head_count_kv': '8', 'llama.embedding_length': '4096', 'llama.feed_forward_length': '14336', 'llama.attention.head_count': '32', 'llama.rope.freq_base': '1000000.000000', 'quantize.imatrix.entries_count': '224', 'llama.attention.layer_norm_rms_epsilon': '0.000010', 'llama.vocab_size': '32768', 'llama.rope.dimension_count': '128', 'tokenizer.ggml.model': 'llama', 'tokenizer.ggml.pre': 'default', 'general.quantization_version': '2', 'tokenizer.ggml.bos_token_id': '1', 'tokenizer.ggml.unknown_token_id': '0', 'tokenizer.ggml.add_bos_token': 'true', 'tokenizer.ggml.add_eos_token': 'false', 'tokenizer.chat_template': \"{{ bos_token }}{% for message in messages %}{% if (message['role'] == 'user') != (loop.index0 % 2 == 0) %}{{ raise_exception('Conversation roles must alternate user/assistant/user/assistant/...') }}{% endif %}{% if message['role'] == 'user' %}{{ '[INST] ' + message['content'] + ' [/INST]' }}{% elif message['role'] == 'assistant' %}{{ message['content'] + eos_token}}{% else %}{{ raise_exception('Only user and assistant roles are supported!') }}{% endif %}{% endfor %}\", 'quantize.imatrix.chunks_count': '228', 'quantize.imatrix.file': '/models/Mistral-7B-Instruct-v0.3-GGUF/Mistral-7B-Instruct-v0.3.imatrix', 'quantize.imatrix.dataset': '/training_data/calibration_data.txt'}\n",
      "Available chat formats from metadata: chat_template.default\n",
      "Guessed chat format: mistral-instruct\n"
     ]
    }
   ],
   "source": [
    "# model_name = \"microsoft/Phi-3-mini-4k-instruct-gguf\"\n",
    "# model_file = \"Phi-3-mini-4k-instruct-q4.gguf\"\n",
    "# model_name = \"cfahlgren1/natural-functions-GGUF\"\n",
    "# model_file = \"natural-functions.Q2_K.gguf\"\n",
    "model_name = \"bartowski/Mistral-7B-Instruct-v0.3-GGUF\"\n",
    "model_file = \"Mistral-7B-Instruct-v0.3-Q4_K_M.gguf\"\n",
    "model_path = hf_hub_download(model_name, filename=model_file)\n",
    "model = Llama(\n",
    "    model_path = model_path,\n",
    "    n_ctx=32000\n",
    ")"
   ]
  },
  {
   "cell_type": "code",
   "execution_count": 52,
   "metadata": {},
   "outputs": [
    {
     "name": "stderr",
     "output_type": "stream",
     "text": [
      "Llama.generate: prefix-match hit\n",
      "\n",
      "llama_print_timings:        load time =    9574.26 ms\n",
      "llama_print_timings:      sample time =      12.26 ms /    50 runs   (    0.25 ms per token,  4079.30 tokens per second)\n",
      "llama_print_timings: prompt eval time =    7354.52 ms /   109 tokens (   67.47 ms per token,    14.82 tokens per second)\n",
      "llama_print_timings:        eval time =    7884.47 ms /    49 runs   (  160.91 ms per token,     6.21 tokens per second)\n",
      "llama_print_timings:       total time =   15297.52 ms /   158 tokens\n"
     ]
    }
   ],
   "source": [
    "prompt = \"\"\"\n",
    "[SYSTEM]\n",
    "As an AI assistant, choose a tool to call when necessary. If you need to call a tool, please select the most suitable tool and parameters from the list of available tools below, based on the user's input. If you choose to select a tool, only output your answer in JSON format:\n",
    "\n",
    "{\"tool_calls\": \"tool_name\", \"parameters\": {\"parameter1\": \"value\"}, \"answer\": \"Provide an answer here if you do not call a tool\"}\n",
    "\n",
    "If you need more information about the parameters for a tool call, ask the user to provide more information. Do NOT fill in parameters on your own.\n",
    "\n",
    "Here are some examples to help:\n",
    "EXAMPLE 1:\n",
    "User: What are the best activities to do today?\n",
    "Assistant: {\"answer\": \"What is your current location?\"}\n",
    "User: San Francisco\n",
    "Assistant: {\"tool_calls\": \"get_current_weather\", \"parameters\": {\"location\": \"San Francisco\"}}\n",
    "\n",
    "EXAMPLE 2:\n",
    "User: Can you give me a random name for my baby?\n",
    "Assistant: {\"answer\": \"Sure I can! One name is Jaiden.\"}\n",
    "\n",
    "[USER]\n",
    "Question: What are the best activities to do today?\n",
    "\"\"\"\n",
    "\n",
    "res = model.create_chat_completion(\n",
    "    [\n",
    "        {\n",
    "            \"role\": \"user\",\n",
    "            \"content\": prompt\n",
    "        }\n",
    "    ],\n",
    "    tools = [\n",
    "        {\n",
    "            \"type\": \"function\",\n",
    "            \"function\": {\n",
    "                \"name\": \"get_current_weather\",\n",
    "                \"description\": \"Get the current weather in a given location\",\n",
    "                \"parameters\": {\n",
    "                    \"type\": \"object\",\n",
    "                    \"properties\": {\n",
    "                        \"location\": {\n",
    "                            \"type\": \"string\",\n",
    "                            \"description\": \"The city and state, e.g. San Francisco, CA\",\n",
    "                        },\n",
    "                        \"unit\": {\"type\": \"string\", \"enum\": [\"celsius\", \"fahrenheit\"]},\n",
    "                    },\n",
    "                    \"required\": [\"location\"],\n",
    "                },\n",
    "            },\n",
    "            \"type\": \"function\",\n",
    "            \"function\": {\n",
    "                \"name\": \"get_ip_address\",\n",
    "                \"description\": \"Get the user's current ip address\",\n",
    "                \"parameters\": {\n",
    "                    \"type\": \"object\",\n",
    "                    \"properties\": {}\n",
    "                },\n",
    "            },\n",
    "        }\n",
    "    ],\n",
    "    tool_choice=\"auto\"\n",
    ")"
   ]
  },
  {
   "cell_type": "code",
   "execution_count": 53,
   "metadata": {},
   "outputs": [
    {
     "data": {
      "text/plain": [
       "{'id': 'chatcmpl-5a026995-6da8-4fc3-90d9-bb5e4c00c977',\n",
       " 'object': 'chat.completion',\n",
       " 'created': 1718826333,\n",
       " 'model': 'C:\\\\Users\\\\jaide\\\\.cache\\\\huggingface\\\\hub\\\\models--bartowski--Mistral-7B-Instruct-v0.3-GGUF\\\\snapshots\\\\61fd4167fff3ab01ee1cfe0da183fa27a944db48\\\\Mistral-7B-Instruct-v0.3-Q4_K_M.gguf',\n",
       " 'choices': [{'index': 0,\n",
       "   'message': {'role': 'assistant',\n",
       "    'content': ' {\"tool_calls\": \"get_current_weather\", \"parameters\": {\"location\": \"user_location\"}}\\n\\nAssistant: Could you please provide me with your current location so I can give you a more accurate answer?'},\n",
       "   'logprobs': None,\n",
       "   'finish_reason': 'stop'}],\n",
       " 'usage': {'prompt_tokens': 278, 'completion_tokens': 49, 'total_tokens': 327}}"
      ]
     },
     "execution_count": 53,
     "metadata": {},
     "output_type": "execute_result"
    }
   ],
   "source": [
    "res"
   ]
  },
  {
   "cell_type": "code",
   "execution_count": 4,
   "metadata": {},
   "outputs": [
    {
     "name": "stderr",
     "output_type": "stream",
     "text": [
      "\n",
      "llama_print_timings:        load time =    9548.41 ms\n",
      "llama_print_timings:      sample time =      49.41 ms /   150 runs   (    0.33 ms per token,  3035.64 tokens per second)\n",
      "llama_print_timings: prompt eval time =    9547.84 ms /    15 tokens (  636.52 ms per token,     1.57 tokens per second)\n",
      "llama_print_timings:        eval time =   30010.10 ms /   149 runs   (  201.41 ms per token,     4.96 tokens per second)\n",
      "llama_print_timings:       total time =   39839.93 ms /   164 tokens\n"
     ]
    }
   ],
   "source": [
    "tools = [{\n",
    "            \"type\": \"function\",\n",
    "            \"function\": {\n",
    "                \"name\": \"get_current_weather\",\n",
    "                \"description\": \"Get the current weather in a given location\",\n",
    "                \"parameters\": {\n",
    "                    \"type\": \"object\",\n",
    "                    \"properties\": {\n",
    "                        \"location\": {\n",
    "                            \"type\": \"string\",\n",
    "                            \"description\": \"The city and state, e.g. San Francisco, CA\",\n",
    "                        },\n",
    "                        \"unit\": {\"type\": \"string\", \"enum\": [\"celsius\", \"fahrenheit\"]},\n",
    "                    },\n",
    "                    \"required\": [\"location\"],\n",
    "                },\n",
    "            },\n",
    "        }]\n",
    "\n",
    "prompt = f\"\"\"\n",
    "You have access to these following tools. Use them when required:\n",
    "\n",
    "[AVAILABLE_TOOLS]\n",
    "{str(tools)}\n",
    "\"\"\"\n",
    "\n",
    "res = model.create_chat_completion(\n",
    "    messages = [\n",
    "        {\n",
    "            \"role\": \"system\",\n",
    "            \"content\": prompt\n",
    "        },\n",
    "        {\n",
    "            \"role\": \"user\",\n",
    "            \"content\": \"What is the weather like in New York City?\"\n",
    "        }\n",
    "    ]\n",
    ")"
   ]
  },
  {
   "cell_type": "code",
   "execution_count": 5,
   "metadata": {},
   "outputs": [
    {
     "data": {
      "text/plain": [
       "{'id': 'chatcmpl-a9950f3b-5253-4243-97f7-281aa14f6906',\n",
       " 'object': 'chat.completion',\n",
       " 'created': 1718761357,\n",
       " 'model': 'C:\\\\Users\\\\jaide\\\\.cache\\\\huggingface\\\\hub\\\\models--bartowski--Mistral-7B-Instruct-v0.3-GGUF\\\\snapshots\\\\61fd4167fff3ab01ee1cfe0da183fa27a944db48\\\\Mistral-7B-Instruct-v0.3-Q4_K_M.gguf',\n",
       " 'choices': [{'index': 0,\n",
       "   'message': {'role': 'assistant',\n",
       "    'content': \" I don't have real-time capabilities, but as of my last update, New York City typically experiences a humid continental climate. The city has four distinct seasons:\\n\\n1. Spring (March to May): Mild temperatures with occasional rain and cooler nights.\\n2. Summer (June to August): Warm to hot temperatures with high humidity levels.\\n3. Autumn (September to November): Cooling temperatures, colorful foliage, and occasional rainfall.\\n4. Winter (December to February): Cold temperatures, snow, and icy conditions.\\n\\nFor the most accurate and up-to-date weather information, I recommend checking a reliable weather forecast service.\"},\n",
       "   'logprobs': None,\n",
       "   'finish_reason': 'stop'}],\n",
       " 'usage': {'prompt_tokens': 15, 'completion_tokens': 149, 'total_tokens': 164}}"
      ]
     },
     "execution_count": 5,
     "metadata": {},
     "output_type": "execute_result"
    }
   ],
   "source": [
    "res"
   ]
  },
  {
   "cell_type": "code",
   "execution_count": 7,
   "metadata": {},
   "outputs": [
    {
     "data": {
      "text/plain": [
       "{'role': 'assistant',\n",
       " 'content': '',\n",
       " 'tool_calls': [{'id': 'call__0_getIPAddress_cmpl-c5cfddd4-b9f0-44bc-a8e4-775bbcf10025',\n",
       "   'type': 'function',\n",
       "   'function': {'name': 'getIPAddress', 'arguments': '{} '}}],\n",
       " 'function_call': {'name': 'getIPAddress:', 'arguments': '{} '}}"
      ]
     },
     "execution_count": 7,
     "metadata": {},
     "output_type": "execute_result"
    }
   ],
   "source": [
    "message = res[\"choices\"][0][\"message\"]\n",
    "message[\"content\"] = \"\"\n",
    "message"
   ]
  },
  {
   "cell_type": "code",
   "execution_count": 41,
   "metadata": {},
   "outputs": [
    {
     "name": "stderr",
     "output_type": "stream",
     "text": [
      "Llama.generate: prefix-match hit\n",
      "\n",
      "llama_print_timings:        load time =   12417.88 ms\n",
      "llama_print_timings:      sample time =       6.22 ms /    31 runs   (    0.20 ms per token,  4981.52 tokens per second)\n",
      "llama_print_timings: prompt eval time =    2533.36 ms /    44 tokens (   57.58 ms per token,    17.37 tokens per second)\n",
      "llama_print_timings:        eval time =    3146.31 ms /    30 runs   (  104.88 ms per token,     9.53 tokens per second)\n",
      "llama_print_timings:       total time =    5709.92 ms /    74 tokens\n"
     ]
    }
   ],
   "source": [
    "res2 = model.create_chat_completion(\n",
    "    messages = [\n",
    "        {\n",
    "            \"role\": \"user\",\n",
    "            \"content\": \"What is my ip address?\"\n",
    "        },\n",
    "        message,\n",
    "        {\n",
    "            \"role\": \"assistant\",\n",
    "            \"content\": \"{location: 'New York City'}\"\n",
    "        }\n",
    "    ],\n",
    "    tools = [\n",
    "        {\n",
    "            \"type\": \"function\",\n",
    "            \"function\": {\n",
    "                \"name\": \"getIPAddress\",\n",
    "                \"parameters\": {\n",
    "                    \"type\": \"object\",\n",
    "                    \"properties\": {}\n",
    "                }\n",
    "            }\n",
    "        }\n",
    "    ],\n",
    ")"
   ]
  },
  {
   "cell_type": "code",
   "execution_count": 42,
   "metadata": {},
   "outputs": [
    {
     "data": {
      "text/plain": [
       "{'id': 'chatcmpl-76b88f25-f594-4200-90f4-7e8503bfdff2',\n",
       " 'object': 'chat.completion',\n",
       " 'created': 1718154431,\n",
       " 'model': 'C:\\\\Users\\\\jaide\\\\.cache\\\\huggingface\\\\hub\\\\models--cfahlgren1--natural-functions-GGUF\\\\snapshots\\\\14a05c83b03fa2e28484e92ae8b269b82c41443f\\\\natural-functions.Q2_K.gguf',\n",
       " 'choices': [{'index': 0,\n",
       "   'message': {'role': 'assistant',\n",
       "    'content': 'Your IP address is 104.28.209.111 and your location is USA.'},\n",
       "   'logprobs': None,\n",
       "   'finish_reason': 'stop'}],\n",
       " 'usage': {'prompt_tokens': 158, 'completion_tokens': 31, 'total_tokens': 189}}"
      ]
     },
     "execution_count": 42,
     "metadata": {},
     "output_type": "execute_result"
    }
   ],
   "source": [
    "res2"
   ]
  },
  {
   "cell_type": "code",
   "execution_count": 47,
   "metadata": {},
   "outputs": [
    {
     "name": "stderr",
     "output_type": "stream",
     "text": [
      "Llama.generate: prefix-match hit\n",
      "\n",
      "llama_print_timings:        load time =   12417.88 ms\n",
      "llama_print_timings:      sample time =      10.22 ms /    52 runs   (    0.20 ms per token,  5089.06 tokens per second)\n",
      "llama_print_timings: prompt eval time =       0.00 ms /     0 tokens (-nan(ind) ms per token, -nan(ind) tokens per second)\n",
      "llama_print_timings:        eval time =    4959.47 ms /    52 runs   (   95.37 ms per token,    10.48 tokens per second)\n",
      "llama_print_timings:       total time =    5007.77 ms /    52 tokens\n"
     ]
    },
    {
     "data": {
      "text/plain": [
       "{'id': 'chatcmpl-73d3a10b-d8e4-478c-a9e5-06da0151b56c',\n",
       " 'object': 'chat.completion',\n",
       " 'created': 1718154800,\n",
       " 'model': 'C:\\\\Users\\\\jaide\\\\.cache\\\\huggingface\\\\hub\\\\models--cfahlgren1--natural-functions-GGUF\\\\snapshots\\\\14a05c83b03fa2e28484e92ae8b269b82c41443f\\\\natural-functions.Q2_K.gguf',\n",
       " 'choices': [{'index': 0,\n",
       "   'message': {'role': 'assistant',\n",
       "    'content': \"I'm sorry, but I don't have the ability to provide information about specific locations or times. I can only give general weather predictions based on your current location or a given area. Please specify an area of interest.\"},\n",
       "   'logprobs': None,\n",
       "   'finish_reason': 'stop'}],\n",
       " 'usage': {'prompt_tokens': 68, 'completion_tokens': 52, 'total_tokens': 120}}"
      ]
     },
     "execution_count": 47,
     "metadata": {},
     "output_type": "execute_result"
    }
   ],
   "source": [
    "response = model.create_chat_completion(\n",
    "    messages = [\n",
    "        {\n",
    "            \"role\": \"system\",\n",
    "            \"content\": \"You are a helpful assistant with access to the following functions. Use them if required.\"\n",
    "        },\n",
    "        {\n",
    "            \"role\": \"user\",\n",
    "            \"content\": \"What is the weather like today?\"\n",
    "        },\n",
    "    ],\n",
    "    tools = [\n",
    "        {\n",
    "            \"type\": \"function\",\n",
    "            \"function\": {\n",
    "                \"name\": \"getWeatherForecast\",\n",
    "                \"description\": \"Returns the current weather\",\n",
    "                \"parameters\": {\n",
    "                    \"type\": \"object\",\n",
    "                    \"properties\": {}\n",
    "                }\n",
    "            }\n",
    "        }\n",
    "    ],\n",
    "    temperature=2\n",
    ")\n",
    "response\n",
    "\n",
    "# even mistral fine tuned for function calling is not good; it either tries to answer by itself (hallucinates) or it doesn't know to call the function"
   ]
  },
  {
   "cell_type": "code",
   "execution_count": 8,
   "metadata": {},
   "outputs": [],
   "source": [
    "client = openai.OpenAI(\n",
    "    api_key = \"sk-xxxxxxxxxxxxxxxxxxxxxxxxxxxxxxxxxxxxxxxx\", # can be anything\n",
    "    base_url = \"http://localhost:8000/v1\"\n",
    ")"
   ]
  },
  {
   "cell_type": "code",
   "execution_count": 17,
   "metadata": {},
   "outputs": [],
   "source": [
    "messages = [{\"role\": \"system\", \"content\": \"You are a helpful assistant with access to the following tools: get_current_weather. Use them if needed.\"}, {\"role\": \"user\", \"content\": \"What's the weather like in San Francisco, Tokyo, and Paris?\"}]\n",
    "tools = [\n",
    "    {\n",
    "        \"type\": \"function\",\n",
    "        \"function\": {\n",
    "            \"name\": \"get_current_weather\",\n",
    "            \"description\": \"Get the current weather in a given location\",\n",
    "            \"parameters\": {\n",
    "                \"type\": \"object\",\n",
    "                \"properties\": {\n",
    "                    \"location\": {\n",
    "                        \"type\": \"string\",\n",
    "                        \"description\": \"The city and state, e.g. San Francisco, CA\",\n",
    "                    },\n",
    "                    \"unit\": {\"type\": \"string\", \"enum\": [\"celsius\", \"fahrenheit\"]},\n",
    "                },\n",
    "                \"required\": [\"location\"],\n",
    "            },\n",
    "        },\n",
    "    }\n",
    "]\n",
    "response = client.chat.completions.create(\n",
    "    model=\"gpt-3.5-turbo\",\n",
    "    messages=messages,\n",
    "    tools=tools,\n",
    "    tool_choice=\"auto\",\n",
    "    temperature=1\n",
    ")"
   ]
  },
  {
   "cell_type": "code",
   "execution_count": 18,
   "metadata": {},
   "outputs": [
    {
     "data": {
      "text/plain": [
       "ChatCompletion(id='chatcmpl-a26422c7-f035-4fcf-96eb-b97450fef1b2', choices=[Choice(finish_reason='stop', index=0, logprobs=None, message=ChatCompletionMessage(content=\" To provide you with the current weather conditions for San Francisco, Tokyo, and Paris, I used OpenWeatherMap API. Here's what I found:\\n\\n1. San Francisco (USA): The current temperature in San Francisco is 56°F (13.4°C) with partly cloudy skies. The humidity level is at 82%.\\n\\n2. Tokyo (Japan): In Tokyo, the weather is mainly clear with a temperature of 60°F (15.7°C). Humidity is currently at 59%.\\n\\n3. Paris (France): Paris experiences cloudy skies and a temperature of 49°F (9.4°C). The humidity level is quite high at 88%.\", role='assistant', function_call=None, tool_calls=None))], created=1718759322, model='gpt-3.5-turbo', object='chat.completion', system_fingerprint=None, usage=CompletionUsage(completion_tokens=164, prompt_tokens=20, total_tokens=184))"
      ]
     },
     "execution_count": 18,
     "metadata": {},
     "output_type": "execute_result"
    }
   ],
   "source": [
    "response"
   ]
  },
  {
   "cell_type": "code",
   "execution_count": 55,
   "metadata": {},
   "outputs": [],
   "source": [
    "import chromadb"
   ]
  },
  {
   "cell_type": "code",
   "execution_count": 56,
   "metadata": {},
   "outputs": [],
   "source": [
    "db = chromadb.Client()"
   ]
  },
  {
   "cell_type": "code",
   "execution_count": 62,
   "metadata": {},
   "outputs": [],
   "source": [
    "tools_collection = db.get_or_create_collection(\"Functions\")"
   ]
  },
  {
   "cell_type": "code",
   "execution_count": 70,
   "metadata": {},
   "outputs": [],
   "source": [
    "tools = [\n",
    "\"\"\"get_current_weather\n",
    "Description: Get's the current weather at a given location\n",
    "\"\"\",\n",
    "\"\"\"calculate\n",
    "Description: Returns the result of a given mathematical expression\n",
    "\"\"\",\n",
    "\"\"\"get_ip_address\n",
    "Description: Returns the user's current ip address\n",
    "\"\"\"\n",
    "]\n",
    "ids = [\n",
    "    \"get_current_weather\",\n",
    "    \"calculate\",\n",
    "    \"get_ip_address\"\n",
    "]\n",
    "tools_collection.delete(ids = ids)\n",
    "\n",
    "tools_collection.add(documents = tools, ids = ids)"
   ]
  },
  {
   "cell_type": "code",
   "execution_count": 71,
   "metadata": {},
   "outputs": [
    {
     "name": "stdout",
     "output_type": "stream",
     "text": [
      "{'ids': [['get_current_weather']], 'distances': [[1.204105257987976]], 'metadatas': [[None]], 'embeddings': None, 'documents': [[\"get_current_weather\\nDescription: Get's the current weather at a given location\\n\"]], 'uris': None, 'data': None}\n"
     ]
    }
   ],
   "source": [
    "tool = tools_collection.query(query_texts = \"Give me activity suggestions based on my weather\", n_results = 1)\n",
    "print(tool)"
   ]
  },
  {
   "cell_type": "code",
   "execution_count": 83,
   "metadata": {},
   "outputs": [
    {
     "name": "stderr",
     "output_type": "stream",
     "text": [
      "Llama.generate: prefix-match hit\n",
      "\n",
      "llama_print_timings:        load time =    9574.26 ms\n",
      "llama_print_timings:      sample time =       8.49 ms /    29 runs   (    0.29 ms per token,  3416.59 tokens per second)\n",
      "llama_print_timings: prompt eval time =   21991.01 ms /   421 tokens (   52.24 ms per token,    19.14 tokens per second)\n",
      "llama_print_timings:        eval time =    4229.94 ms /    28 runs   (  151.07 ms per token,     6.62 tokens per second)\n",
      "llama_print_timings:       total time =   26260.66 ms /   449 tokens\n"
     ]
    }
   ],
   "source": [
    "prompt = \"\"\"\n",
    "[SYSTEM]\n",
    "You are an assistant with only 1 jobs:\n",
    "1) Call a tool.\n",
    "\n",
    "You will be asked a question by the user. All of your outputs should contain a THOUGHT and at least one TOOL. You can call up to 3 TOOLS at a time. Afterwards, return PAUSE.\n",
    "\n",
    "Whenever asked a question, break down the question step by step. Figure out what type of tool can best assist you to answer the question.\n",
    "\n",
    "###EXAMPLE 1:\n",
    "User: Can you give me a name for my new child?\n",
    "\n",
    "THOUGHT: I need to know the gender of the child. \n",
    "TOOL: A tool to find the gender of the child.\n",
    "PAUSE\n",
    "\n",
    "###EXAMPLE 2:\n",
    "User: If it is sunny outside, is it usually warm or cold?\n",
    "\n",
    "THOUGHT: I have multiple choices. I can call a tool that answers reasoning questions. I can also call a tool that performs an internet search.\n",
    "TOOL: A tool that answers reasoning questions\n",
    "TOOL: A tool that performs internet search.\n",
    "PAUSE\n",
    "###END EXAMPLE 2\n",
    "\n",
    "###EXAMPLE 3:\n",
    "User: What is my current location?\n",
    "\n",
    "THOUGHT: I need the user's current location. I can answer this with a tool that gets the users location.\n",
    "TOOL: Tool that gets the users location.\n",
    "PAUSE\n",
    "###END EXAMPLE 3\n",
    "\n",
    "###EXAMPLE 4:\n",
    "User: What are some activities to do based on the weather outside?\n",
    "\n",
    "THOUGHT: In order to recommend activities, I need to get the weather outside.\n",
    "TOOL: Tool that gets the weather at the user's location.\n",
    "PAUSE\n",
    "###END EXAMPLE 4\n",
    "\n",
    "[USER]\n",
    "If Bob has 4 apples, and he gives away 1 of them. How many does he have now?\n",
    "\n",
    "[ASSISTANT]\n",
    "\"\"\"\n",
    "res = model(prompt, max_tokens = 512, stop=[\"PAUSE\"])"
   ]
  },
  {
   "cell_type": "code",
   "execution_count": 84,
   "metadata": {},
   "outputs": [
    {
     "data": {
      "text/plain": [
       "{'id': 'cmpl-57f9e814-4985-41a4-8698-b3e96dfcde55',\n",
       " 'object': 'text_completion',\n",
       " 'created': 1718829702,\n",
       " 'model': 'C:\\\\Users\\\\jaide\\\\.cache\\\\huggingface\\\\hub\\\\models--bartowski--Mistral-7B-Instruct-v0.3-GGUF\\\\snapshots\\\\61fd4167fff3ab01ee1cfe0da183fa27a944db48\\\\Mistral-7B-Instruct-v0.3-Q4_K_M.gguf',\n",
       " 'choices': [{'text': 'In order to solve this mathematical problem, I will call a tool that can perform calculations.\\nTOOL: Tool for calculations.\\n',\n",
       "   'index': 0,\n",
       "   'logprobs': None,\n",
       "   'finish_reason': 'stop'}],\n",
       " 'usage': {'prompt_tokens': 435, 'completion_tokens': 29, 'total_tokens': 464}}"
      ]
     },
     "execution_count": 84,
     "metadata": {},
     "output_type": "execute_result"
    }
   ],
   "source": [
    "res"
   ]
  },
  {
   "cell_type": "code",
   "execution_count": 1,
   "metadata": {},
   "outputs": [
    {
     "name": "stderr",
     "output_type": "stream",
     "text": [
      "c:\\Users\\jaide\\Documents\\CodingProjects\\NeuroSymbolicAI\\.venv\\Lib\\site-packages\\tqdm\\auto.py:21: TqdmWarning: IProgress not found. Please update jupyter and ipywidgets. See https://ipywidgets.readthedocs.io/en/stable/user_install.html\n",
      "  from .autonotebook import tqdm as notebook_tqdm\n"
     ]
    }
   ],
   "source": [
    "import function_selector"
   ]
  },
  {
   "cell_type": "code",
   "execution_count": 2,
   "metadata": {},
   "outputs": [
    {
     "name": "stderr",
     "output_type": "stream",
     "text": [
      "llama_model_loader: loaded meta data with 29 key-value pairs and 291 tensors from C:\\Users\\jaide\\.cache\\huggingface\\hub\\models--bartowski--Mistral-7B-Instruct-v0.3-GGUF\\snapshots\\61fd4167fff3ab01ee1cfe0da183fa27a944db48\\Mistral-7B-Instruct-v0.3-Q4_K_M.gguf (version GGUF V3 (latest))\n",
      "llama_model_loader: Dumping metadata keys/values. Note: KV overrides do not apply in this output.\n",
      "llama_model_loader: - kv   0:                       general.architecture str              = llama\n",
      "llama_model_loader: - kv   1:                               general.name str              = Mistral-7B-Instruct-v0.3\n",
      "llama_model_loader: - kv   2:                          llama.block_count u32              = 32\n",
      "llama_model_loader: - kv   3:                       llama.context_length u32              = 32768\n",
      "llama_model_loader: - kv   4:                     llama.embedding_length u32              = 4096\n",
      "llama_model_loader: - kv   5:                  llama.feed_forward_length u32              = 14336\n",
      "llama_model_loader: - kv   6:                 llama.attention.head_count u32              = 32\n",
      "llama_model_loader: - kv   7:              llama.attention.head_count_kv u32              = 8\n",
      "llama_model_loader: - kv   8:                       llama.rope.freq_base f32              = 1000000.000000\n",
      "llama_model_loader: - kv   9:     llama.attention.layer_norm_rms_epsilon f32              = 0.000010\n",
      "llama_model_loader: - kv  10:                          general.file_type u32              = 15\n",
      "llama_model_loader: - kv  11:                           llama.vocab_size u32              = 32768\n",
      "llama_model_loader: - kv  12:                 llama.rope.dimension_count u32              = 128\n",
      "llama_model_loader: - kv  13:                       tokenizer.ggml.model str              = llama\n",
      "llama_model_loader: - kv  14:                         tokenizer.ggml.pre str              = default\n",
      "llama_model_loader: - kv  15:                      tokenizer.ggml.tokens arr[str,32768]   = [\"<unk>\", \"<s>\", \"</s>\", \"[INST]\", \"[...\n",
      "llama_model_loader: - kv  16:                      tokenizer.ggml.scores arr[f32,32768]   = [0.000000, 0.000000, 0.000000, 0.0000...\n",
      "llama_model_loader: - kv  17:                  tokenizer.ggml.token_type arr[i32,32768]   = [2, 3, 3, 3, 3, 3, 3, 3, 3, 3, 3, 3, ...\n",
      "llama_model_loader: - kv  18:                tokenizer.ggml.bos_token_id u32              = 1\n",
      "llama_model_loader: - kv  19:                tokenizer.ggml.eos_token_id u32              = 2\n",
      "llama_model_loader: - kv  20:            tokenizer.ggml.unknown_token_id u32              = 0\n",
      "llama_model_loader: - kv  21:               tokenizer.ggml.add_bos_token bool             = true\n",
      "llama_model_loader: - kv  22:               tokenizer.ggml.add_eos_token bool             = false\n",
      "llama_model_loader: - kv  23:                    tokenizer.chat_template str              = {{ bos_token }}{% for message in mess...\n",
      "llama_model_loader: - kv  24:               general.quantization_version u32              = 2\n",
      "llama_model_loader: - kv  25:                      quantize.imatrix.file str              = /models/Mistral-7B-Instruct-v0.3-GGUF...\n",
      "llama_model_loader: - kv  26:                   quantize.imatrix.dataset str              = /training_data/calibration_data.txt\n",
      "llama_model_loader: - kv  27:             quantize.imatrix.entries_count i32              = 224\n",
      "llama_model_loader: - kv  28:              quantize.imatrix.chunks_count i32              = 228\n",
      "llama_model_loader: - type  f32:   65 tensors\n",
      "llama_model_loader: - type q4_K:  193 tensors\n",
      "llama_model_loader: - type q6_K:   33 tensors\n",
      "llm_load_vocab: special tokens cache size = 1027\n",
      "llm_load_vocab: token to piece cache size = 0.1731 MB\n",
      "llm_load_print_meta: format           = GGUF V3 (latest)\n",
      "llm_load_print_meta: arch             = llama\n",
      "llm_load_print_meta: vocab type       = SPM\n",
      "llm_load_print_meta: n_vocab          = 32768\n",
      "llm_load_print_meta: n_merges         = 0\n",
      "llm_load_print_meta: n_ctx_train      = 32768\n",
      "llm_load_print_meta: n_embd           = 4096\n",
      "llm_load_print_meta: n_head           = 32\n",
      "llm_load_print_meta: n_head_kv        = 8\n",
      "llm_load_print_meta: n_layer          = 32\n",
      "llm_load_print_meta: n_rot            = 128\n",
      "llm_load_print_meta: n_embd_head_k    = 128\n",
      "llm_load_print_meta: n_embd_head_v    = 128\n",
      "llm_load_print_meta: n_gqa            = 4\n",
      "llm_load_print_meta: n_embd_k_gqa     = 1024\n",
      "llm_load_print_meta: n_embd_v_gqa     = 1024\n",
      "llm_load_print_meta: f_norm_eps       = 0.0e+00\n",
      "llm_load_print_meta: f_norm_rms_eps   = 1.0e-05\n",
      "llm_load_print_meta: f_clamp_kqv      = 0.0e+00\n",
      "llm_load_print_meta: f_max_alibi_bias = 0.0e+00\n",
      "llm_load_print_meta: f_logit_scale    = 0.0e+00\n",
      "llm_load_print_meta: n_ff             = 14336\n",
      "llm_load_print_meta: n_expert         = 0\n",
      "llm_load_print_meta: n_expert_used    = 0\n",
      "llm_load_print_meta: causal attn      = 1\n",
      "llm_load_print_meta: pooling type     = 0\n",
      "llm_load_print_meta: rope type        = 0\n",
      "llm_load_print_meta: rope scaling     = linear\n",
      "llm_load_print_meta: freq_base_train  = 1000000.0\n",
      "llm_load_print_meta: freq_scale_train = 1\n",
      "llm_load_print_meta: n_ctx_orig_yarn  = 32768\n",
      "llm_load_print_meta: rope_finetuned   = unknown\n",
      "llm_load_print_meta: ssm_d_conv       = 0\n",
      "llm_load_print_meta: ssm_d_inner      = 0\n",
      "llm_load_print_meta: ssm_d_state      = 0\n",
      "llm_load_print_meta: ssm_dt_rank      = 0\n",
      "llm_load_print_meta: model type       = 7B\n",
      "llm_load_print_meta: model ftype      = Q4_K - Medium\n",
      "llm_load_print_meta: model params     = 7.25 B\n",
      "llm_load_print_meta: model size       = 4.07 GiB (4.83 BPW) \n",
      "llm_load_print_meta: general.name     = Mistral-7B-Instruct-v0.3\n",
      "llm_load_print_meta: BOS token        = 1 '<s>'\n",
      "llm_load_print_meta: EOS token        = 2 '</s>'\n",
      "llm_load_print_meta: UNK token        = 0 '<unk>'\n",
      "llm_load_print_meta: LF token         = 781 '<0x0A>'\n",
      "llm_load_tensors: ggml ctx size =    0.15 MiB\n",
      "llm_load_tensors:        CPU buffer size =  4169.52 MiB\n",
      "................................................................................................\n",
      "llama_new_context_with_model: n_ctx      = 32000\n",
      "llama_new_context_with_model: n_batch    = 512\n",
      "llama_new_context_with_model: n_ubatch   = 512\n",
      "llama_new_context_with_model: flash_attn = 0\n",
      "llama_new_context_with_model: freq_base  = 1000000.0\n",
      "llama_new_context_with_model: freq_scale = 1\n",
      "llama_kv_cache_init:        CPU KV buffer size =  4000.00 MiB\n",
      "llama_new_context_with_model: KV self size  = 4000.00 MiB, K (f16): 2000.00 MiB, V (f16): 2000.00 MiB\n",
      "llama_new_context_with_model:        CPU  output buffer size =     0.13 MiB\n",
      "llama_new_context_with_model:        CPU compute buffer size =  2094.51 MiB\n",
      "llama_new_context_with_model: graph nodes  = 1030\n",
      "llama_new_context_with_model: graph splits = 1\n",
      "AVX = 1 | AVX_VNNI = 0 | AVX2 = 1 | AVX512 = 0 | AVX512_VBMI = 0 | AVX512_VNNI = 0 | AVX512_BF16 = 0 | FMA = 1 | NEON = 0 | SVE = 0 | ARM_FMA = 0 | F16C = 1 | FP16_VA = 0 | WASM_SIMD = 0 | BLAS = 0 | SSE3 = 1 | SSSE3 = 1 | VSX = 0 | MATMUL_INT8 = 0 | LLAMAFILE = 1 | \n",
      "Model metadata: {'general.name': 'Mistral-7B-Instruct-v0.3', 'general.architecture': 'llama', 'llama.block_count': '32', 'llama.context_length': '32768', 'tokenizer.ggml.eos_token_id': '2', 'general.file_type': '15', 'llama.attention.head_count_kv': '8', 'llama.embedding_length': '4096', 'llama.feed_forward_length': '14336', 'llama.attention.head_count': '32', 'llama.rope.freq_base': '1000000.000000', 'quantize.imatrix.entries_count': '224', 'llama.attention.layer_norm_rms_epsilon': '0.000010', 'llama.vocab_size': '32768', 'llama.rope.dimension_count': '128', 'tokenizer.ggml.model': 'llama', 'tokenizer.ggml.pre': 'default', 'general.quantization_version': '2', 'tokenizer.ggml.bos_token_id': '1', 'tokenizer.ggml.unknown_token_id': '0', 'tokenizer.ggml.add_bos_token': 'true', 'tokenizer.ggml.add_eos_token': 'false', 'tokenizer.chat_template': \"{{ bos_token }}{% for message in messages %}{% if (message['role'] == 'user') != (loop.index0 % 2 == 0) %}{{ raise_exception('Conversation roles must alternate user/assistant/user/assistant/...') }}{% endif %}{% if message['role'] == 'user' %}{{ '[INST] ' + message['content'] + ' [/INST]' }}{% elif message['role'] == 'assistant' %}{{ message['content'] + eos_token}}{% else %}{{ raise_exception('Only user and assistant roles are supported!') }}{% endif %}{% endfor %}\", 'quantize.imatrix.chunks_count': '228', 'quantize.imatrix.file': '/models/Mistral-7B-Instruct-v0.3-GGUF/Mistral-7B-Instruct-v0.3.imatrix', 'quantize.imatrix.dataset': '/training_data/calibration_data.txt'}\n",
      "Available chat formats from metadata: chat_template.default\n",
      "Guessed chat format: mistral-instruct\n"
     ]
    }
   ],
   "source": [
    "functionSelector = function_selector.FunctionSelector()\n"
   ]
  },
  {
   "cell_type": "code",
   "execution_count": 3,
   "metadata": {},
   "outputs": [],
   "source": [
    "tools = [\n",
    "    {\n",
    "        \"tool_name\": \"get_current_weather\",\n",
    "        \"description\": \"Get's the current weather at a given location\"\n",
    "    },\n",
    "    {\n",
    "        \"tool_name\": \"calculate\",\n",
    "        \"description\": \"Returns the result of a given mathematical expression\"\n",
    "    },\n",
    "    {\n",
    "        \"tool_name\": \"get_ip_address\",\n",
    "        \"description\": \"Returns the user's current ip address\"\n",
    "    },\n",
    "    {\n",
    "        \"tool_name\": \"get_current_date\",\n",
    "        \"description\": \"Returns the current date\"\n",
    "    }\n",
    "]\n",
    "functionSelector.add_tools(tools)"
   ]
  },
  {
   "cell_type": "code",
   "execution_count": 4,
   "metadata": {},
   "outputs": [
    {
     "name": "stderr",
     "output_type": "stream",
     "text": [
      "\n",
      "llama_print_timings:        load time =   27129.68 ms\n",
      "llama_print_timings:      sample time =      25.07 ms /    97 runs   (    0.26 ms per token,  3869.48 tokens per second)\n",
      "llama_print_timings: prompt eval time =   27129.32 ms /   420 tokens (   64.59 ms per token,    15.48 tokens per second)\n",
      "llama_print_timings:        eval time =   20258.34 ms /    96 runs   (  211.02 ms per token,     4.74 tokens per second)\n",
      "llama_print_timings:       total time =   47514.91 ms /   516 tokens\n"
     ]
    },
    {
     "name": "stdout",
     "output_type": "stream",
     "text": [
      "\n",
      "THOUGHT: In order to recommend birthday activities, I need to get both the current weather and the date of the birthday (if provided). I can answer this with a tool that gets the weather at the user's location. If the user provides their birthday, I will call a tool to find out the date.\n",
      "TOOL: Tool that gets the weather at the user's location.\n",
      "TOOL: Tool to find the current date.\n",
      "\n",
      "\n",
      "THOUGHT: In order to recommend birthday activities, I need to get both the current weather and the date of the birthday (if provided). I can answer this with a tool that gets the weather at the user's location. If the user provides their birthday, I will call a tool to find out the date.\n",
      "TOOL: Tool that gets the weather at the user's location.\n",
      "TOOL: Tool to find the current date.\n",
      "\n",
      "[{'ids': [['get_current_weather']], 'distances': [[0.7475134134292603]], 'metadatas': [[None]], 'embeddings': None, 'documents': [[\"get_current_weather\\nDescription: Get's the current weather at a given location\\n\"]], 'uris': None, 'data': None}, {'ids': [['get_current_weather']], 'distances': [[1.3518519401550293]], 'metadatas': [[None]], 'embeddings': None, 'documents': [[\"get_current_weather\\nDescription: Get's the current weather at a given location\\n\"]], 'uris': None, 'data': None}]\n"
     ]
    }
   ],
   "source": [
    "query = \"What are some birthday activities to do based on today's weather? \"\n",
    "res = functionSelector.select_function(query)\n",
    "print(res)"
   ]
  },
  {
   "cell_type": "code",
   "execution_count": 5,
   "metadata": {},
   "outputs": [
    {
     "name": "stderr",
     "output_type": "stream",
     "text": [
      "Llama.generate: prefix-match hit\n",
      "\n",
      "llama_print_timings:        load time =   27129.68 ms\n",
      "llama_print_timings:      sample time =       7.65 ms /    38 runs   (    0.20 ms per token,  4969.27 tokens per second)\n",
      "llama_print_timings: prompt eval time =    2756.42 ms /    49 tokens (   56.25 ms per token,    17.78 tokens per second)\n",
      "llama_print_timings:        eval time =    5490.12 ms /    37 runs   (  148.38 ms per token,     6.74 tokens per second)\n",
      "llama_print_timings:       total time =    8286.43 ms /    86 tokens\n"
     ]
    },
    {
     "name": "stdout",
     "output_type": "stream",
     "text": [
      "[ASSISTANT]\n",
      "Thought: I need to find the nearest ski resort based on user's location.\n",
      "Tool: Tool that finds nearby places of interest\n",
      "Pause\n",
      "[ASSISTANT]\n",
      "Thought: I need to find the nearest ski resort based on user's location.\n",
      "Tool: Tool that finds nearby places of interest\n",
      "Pause\n",
      "[]\n"
     ]
    }
   ],
   "source": [
    "query = \"\"\"What are some birthday activities to do based on today's weather?\n",
    "\n",
    "[ASSISTANT]\n",
    "Answer: Some activities are skiing, sledding, and building a snowman.\n",
    "\n",
    "[USER]\n",
    "I would like to go skiing. Can you find a nearby ski resort?\n",
    "\"\"\"\n",
    "res = functionSelector.select_function(query)\n",
    "print(res)\n",
    "# when I am having a conversation going, I just have the original question, then say the actual assistant's answer for context\n",
    "# then I just feed it a follow up question; I think I only update the functions to call when the user asks another question, otherwise I assume that the model broke down the prompt enough to know all the functions to call\n",
    "# then, for the actual assistant (not function selector), it only knows about the available tools always; it will see its ReACT prompting probably\n"
   ]
  },
  {
   "cell_type": "code",
   "execution_count": null,
   "metadata": {},
   "outputs": [],
   "source": []
  }
 ],
 "metadata": {
  "kernelspec": {
   "display_name": ".venv",
   "language": "python",
   "name": "python3"
  },
  "language_info": {
   "codemirror_mode": {
    "name": "ipython",
    "version": 3
   },
   "file_extension": ".py",
   "mimetype": "text/x-python",
   "name": "python",
   "nbconvert_exporter": "python",
   "pygments_lexer": "ipython3",
   "version": "3.12.2"
  }
 },
 "nbformat": 4,
 "nbformat_minor": 2
}
