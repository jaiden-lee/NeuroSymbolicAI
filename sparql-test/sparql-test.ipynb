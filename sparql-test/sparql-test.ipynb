{
 "cells": [
  {
   "cell_type": "code",
   "execution_count": 1,
   "metadata": {},
   "outputs": [],
   "source": [
    "from SPARQLWrapper import SPARQLWrapper, JSON"
   ]
  },
  {
   "cell_type": "code",
   "execution_count": 3,
   "metadata": {},
   "outputs": [],
   "source": [
    "# API endpoint\n",
    "sparql = SPARQLWrapper(\"https://query.wikidata.org/sparql\")\n",
    "sparql.setReturnFormat(JSON)"
   ]
  },
  {
   "cell_type": "code",
   "execution_count": 17,
   "metadata": {},
   "outputs": [
    {
     "data": {
      "text/plain": [
       "[{'child': {'type': 'uri', 'value': 'http://www.wikidata.org/entity/Q57225'},\n",
       "  'childLabel': {'xml:lang': 'en',\n",
       "   'type': 'literal',\n",
       "   'value': 'Johann Christoph Friedrich Bach'}},\n",
       " {'child': {'type': 'uri', 'value': 'http://www.wikidata.org/entity/Q76428'},\n",
       "  'childLabel': {'xml:lang': 'en',\n",
       "   'type': 'literal',\n",
       "   'value': 'Carl Philipp Emanuel Bach'}},\n",
       " {'child': {'type': 'uri', 'value': 'http://www.wikidata.org/entity/Q106641'},\n",
       "  'childLabel': {'xml:lang': 'en',\n",
       "   'type': 'literal',\n",
       "   'value': 'Johann Christian Bach'}},\n",
       " {'child': {'type': 'uri', 'value': 'http://www.wikidata.org/entity/Q107277'},\n",
       "  'childLabel': {'xml:lang': 'en',\n",
       "   'type': 'literal',\n",
       "   'value': 'Wilhelm Friedemann Bach'}},\n",
       " {'child': {'type': 'uri', 'value': 'http://www.wikidata.org/entity/Q470198'},\n",
       "  'childLabel': {'xml:lang': 'en',\n",
       "   'type': 'literal',\n",
       "   'value': 'Johann Gottfried Bernhard Bach'}},\n",
       " {'child': {'type': 'uri',\n",
       "   'value': 'http://www.wikidata.org/entity/Q21042259'},\n",
       "  'childLabel': {'xml:lang': 'en',\n",
       "   'type': 'literal',\n",
       "   'value': 'Johanna Carolina Bach'}},\n",
       " {'child': {'type': 'uri',\n",
       "   'value': 'http://www.wikidata.org/entity/Q21042273'},\n",
       "  'childLabel': {'xml:lang': 'en',\n",
       "   'type': 'literal',\n",
       "   'value': 'Christiana Dorothea Bach'}},\n",
       " {'child': {'type': 'uri',\n",
       "   'value': 'http://www.wikidata.org/entity/Q21042280'},\n",
       "  'childLabel': {'xml:lang': 'en',\n",
       "   'type': 'literal',\n",
       "   'value': 'Christiana Benedicta Louisa'}},\n",
       " {'child': {'type': 'uri',\n",
       "   'value': 'http://www.wikidata.org/entity/Q21042284'},\n",
       "  'childLabel': {'xml:lang': 'en',\n",
       "   'type': 'literal',\n",
       "   'value': 'Regina Johanna Bach'}},\n",
       " {'child': {'type': 'uri', 'value': 'http://www.wikidata.org/entity/Q710996'},\n",
       "  'childLabel': {'xml:lang': 'en',\n",
       "   'type': 'literal',\n",
       "   'value': 'Gottfried Heinrich Bach'}}]"
      ]
     },
     "execution_count": 17,
     "metadata": {},
     "output_type": "execute_result"
    }
   ],
   "source": [
    "sparql.setQuery(\"\"\"\n",
    "SELECT ?child ?childLabel\n",
    "WHERE {\n",
    "    ?child wdt:P22 wd:Q1339 .\n",
    "    ?child rdfs:label ?childLabel .\n",
    "    FILTER(LANG(?childLabel) = \"en\").\n",
    "}\n",
    "LIMIT 10\n",
    "\"\"\")\n",
    "results = sparql.query().convert()\n",
    "results[\"results\"][\"bindings\"]"
   ]
  },
  {
   "cell_type": "code",
   "execution_count": 42,
   "metadata": {},
   "outputs": [
    {
     "data": {
      "text/plain": [
       "[{'height': {'datatype': 'http://www.w3.org/2001/XMLSchema#decimal',\n",
       "   'type': 'literal',\n",
       "   'value': '206'}}]"
      ]
     },
     "execution_count": 42,
     "metadata": {},
     "output_type": "execute_result"
    }
   ],
   "source": [
    "sparql.setQuery(\"\"\"\n",
    "SELECT ?height\n",
    "WHERE {\n",
    "    wd:Q36159 wdt:P2048 ?height .\n",
    "}\n",
    "LIMIT 10\n",
    "\"\"\")\n",
    "results = sparql.query().convert()\n",
    "results[\"results\"][\"bindings\"]"
   ]
  },
  {
   "cell_type": "code",
   "execution_count": null,
   "metadata": {},
   "outputs": [],
   "source": [
    "# so its pretty easy to use SPARQL from local machien\n",
    "# if I'm making a fact checker though, it's hard since I need to find a way to get access the *property value* (wdt:P) and the entity value (wd:Q)\n",
    "# To do that, I'd need to use Wikidata REST API to do a search"
   ]
  },
  {
   "cell_type": "code",
   "execution_count": 21,
   "metadata": {},
   "outputs": [],
   "source": [
    "import requests"
   ]
  },
  {
   "cell_type": "code",
   "execution_count": 30,
   "metadata": {},
   "outputs": [
    {
     "data": {
      "text/plain": [
       "{'searchinfo': {'search': 'Bach'},\n",
       " 'search': [{'id': 'Q1339',\n",
       "   'title': 'Q1339',\n",
       "   'pageid': 1735,\n",
       "   'concepturi': 'http://www.wikidata.org/entity/Q1339',\n",
       "   'repository': 'wikidata',\n",
       "   'url': '//www.wikidata.org/wiki/Q1339',\n",
       "   'display': {'label': {'value': 'Johann Sebastian Bach', 'language': 'en'},\n",
       "    'description': {'value': 'German composer (1685–1750)', 'language': 'en'}},\n",
       "   'label': 'Johann Sebastian Bach',\n",
       "   'description': 'German composer (1685–1750)',\n",
       "   'match': {'type': 'alias', 'language': 'en', 'text': 'Bach'},\n",
       "   'aliases': ['Bach']},\n",
       "  {'id': 'Q1409748',\n",
       "   'title': 'Q1409748',\n",
       "   'pageid': 1348676,\n",
       "   'concepturi': 'http://www.wikidata.org/entity/Q1409748',\n",
       "   'repository': 'wikidata',\n",
       "   'url': '//www.wikidata.org/wiki/Q1409748',\n",
       "   'display': {'label': {'value': 'Bach', 'language': 'en'},\n",
       "    'description': {'value': 'family name', 'language': 'en'}},\n",
       "   'label': 'Bach',\n",
       "   'description': 'family name',\n",
       "   'match': {'type': 'label', 'language': 'en', 'text': 'Bach'}},\n",
       "  {'id': 'Q936005',\n",
       "   'title': 'Q936005',\n",
       "   'pageid': 886250,\n",
       "   'concepturi': 'http://www.wikidata.org/entity/Q936005',\n",
       "   'repository': 'wikidata',\n",
       "   'url': '//www.wikidata.org/wiki/Q936005',\n",
       "   'display': {'label': {'value': 'Bach', 'language': 'en'},\n",
       "    'description': {'value': 'commune in Lot, France', 'language': 'en'}},\n",
       "   'label': 'Bach',\n",
       "   'description': 'commune in Lot, France',\n",
       "   'match': {'type': 'label', 'language': 'en', 'text': 'Bach'}},\n",
       "  {'id': 'Q679998',\n",
       "   'title': 'Q679998',\n",
       "   'pageid': 640603,\n",
       "   'concepturi': 'http://www.wikidata.org/entity/Q679998',\n",
       "   'repository': 'wikidata',\n",
       "   'url': '//www.wikidata.org/wiki/Q679998',\n",
       "   'display': {'label': {'value': 'Bach', 'language': 'en'},\n",
       "    'description': {'value': 'municipality in Reutte District, Tyrol, Austria',\n",
       "     'language': 'en'}},\n",
       "   'label': 'Bach',\n",
       "   'description': 'municipality in Reutte District, Tyrol, Austria',\n",
       "   'match': {'type': 'label', 'language': 'en', 'text': 'Bach'}},\n",
       "  {'id': 'Q144189',\n",
       "   'title': 'Q144189',\n",
       "   'pageid': 145824,\n",
       "   'concepturi': 'http://www.wikidata.org/entity/Q144189',\n",
       "   'repository': 'wikidata',\n",
       "   'url': '//www.wikidata.org/wiki/Q144189',\n",
       "   'display': {'label': {'value': '1814 Bach', 'language': 'en'},\n",
       "    'description': {'value': 'main-belt asteroid discovered in 1931',\n",
       "     'language': 'en'}},\n",
       "   'label': '1814 Bach',\n",
       "   'description': 'main-belt asteroid discovered in 1931',\n",
       "   'match': {'type': 'alias', 'language': 'en', 'text': 'Bach'},\n",
       "   'aliases': ['Bach']},\n",
       "  {'id': 'Q1072625',\n",
       "   'title': 'Q1072625',\n",
       "   'pageid': 1021077,\n",
       "   'concepturi': 'http://www.wikidata.org/entity/Q1072625',\n",
       "   'repository': 'wikidata',\n",
       "   'url': '//www.wikidata.org/wiki/Q1072625',\n",
       "   'display': {'label': {'value': 'Bach', 'language': 'en'},\n",
       "    'description': {'value': 'crater on Mercury', 'language': 'en'}},\n",
       "   'label': 'Bach',\n",
       "   'description': 'crater on Mercury',\n",
       "   'match': {'type': 'label', 'language': 'en', 'text': 'Bach'}},\n",
       "  {'id': 'Q584238',\n",
       "   'title': 'Q584238',\n",
       "   'pageid': 549653,\n",
       "   'concepturi': 'http://www.wikidata.org/entity/Q584238',\n",
       "   'repository': 'wikidata',\n",
       "   'url': '//www.wikidata.org/wiki/Q584238',\n",
       "   'display': {'label': {'value': 'BACH motif', 'language': 'en'},\n",
       "    'description': {'value': 'Musical motif consisting of B flat, A, C, B natural, used by J. S. Bach and other composers',\n",
       "     'language': 'en'}},\n",
       "   'label': 'BACH motif',\n",
       "   'description': 'Musical motif consisting of B flat, A, C, B natural, used by J. S. Bach and other composers',\n",
       "   'match': {'type': 'label', 'language': 'en', 'text': 'BACH motif'}}],\n",
       " 'search-continue': 7,\n",
       " 'success': 1}"
      ]
     },
     "execution_count": 30,
     "metadata": {},
     "output_type": "execute_result"
    }
   ],
   "source": [
    "# Entity Search\n",
    "endpoint = f\"https://www.wikidata.org/w/api.php\"\n",
    "parameters = {\n",
    "    \"action\":\"wbsearchentities\",\n",
    "    \"search\":\"Bach\",\n",
    "    \"language\":\"en\",\n",
    "    \"type\":\"item\",\n",
    "    \"format\":\"json\"\n",
    "}\n",
    "response = requests.get(endpoint, params=parameters)\n",
    "response.json()\n",
    "# I can do like a little document search here to choose the correct ID, or have the model choose the right entity name, though not sure how well it would work since it needs to precisely generate the number"
   ]
  },
  {
   "cell_type": "code",
   "execution_count": 40,
   "metadata": {},
   "outputs": [
    {
     "data": {
      "text/plain": [
       "{'searchinfo': {'search': 'height'},\n",
       " 'search': [{'id': 'P2044',\n",
       "   'title': 'Property:P2044',\n",
       "   'pageid': 23014228,\n",
       "   'datatype': 'quantity',\n",
       "   'concepturi': 'http://www.wikidata.org/entity/P2044',\n",
       "   'repository': 'wikidata',\n",
       "   'url': '//www.wikidata.org/wiki/Property:P2044',\n",
       "   'display': {'label': {'value': 'elevation above sea level',\n",
       "     'language': 'en'},\n",
       "    'description': {'value': 'height of the item (geographical object) as measured relative to sea level',\n",
       "     'language': 'en'}},\n",
       "   'label': 'elevation above sea level',\n",
       "   'description': 'height of the item (geographical object) as measured relative to sea level',\n",
       "   'match': {'type': 'alias', 'language': 'en', 'text': 'height'},\n",
       "   'aliases': ['height']},\n",
       "  {'id': 'P2048',\n",
       "   'title': 'Property:P2048',\n",
       "   'pageid': 23014801,\n",
       "   'datatype': 'quantity',\n",
       "   'concepturi': 'http://www.wikidata.org/entity/P2048',\n",
       "   'repository': 'wikidata',\n",
       "   'url': '//www.wikidata.org/wiki/Property:P2048',\n",
       "   'display': {'label': {'value': 'height', 'language': 'en'},\n",
       "    'description': {'value': 'vertical length of an entity',\n",
       "     'language': 'en'}},\n",
       "   'label': 'height',\n",
       "   'description': 'vertical length of an entity',\n",
       "   'match': {'type': 'label', 'language': 'en', 'text': 'height'}},\n",
       "  {'id': 'P2793',\n",
       "   'title': 'Property:P2793',\n",
       "   'pageid': 25932517,\n",
       "   'datatype': 'quantity',\n",
       "   'concepturi': 'http://www.wikidata.org/entity/P2793',\n",
       "   'repository': 'wikidata',\n",
       "   'url': '//www.wikidata.org/wiki/Property:P2793',\n",
       "   'display': {'label': {'value': 'clearance', 'language': 'en'},\n",
       "    'description': {'value': 'distance between surface under bridge and bottom of a bridge deck',\n",
       "     'language': 'en'}},\n",
       "   'label': 'clearance',\n",
       "   'description': 'distance between surface under bridge and bottom of a bridge deck',\n",
       "   'match': {'type': 'alias', 'language': 'en', 'text': 'height'},\n",
       "   'aliases': ['height']},\n",
       "  {'id': 'P2923',\n",
       "   'title': 'Property:P2923',\n",
       "   'pageid': 26663033,\n",
       "   'datatype': 'quantity',\n",
       "   'concepturi': 'http://www.wikidata.org/entity/P2923',\n",
       "   'repository': 'wikidata',\n",
       "   'url': '//www.wikidata.org/wiki/Property:P2923',\n",
       "   'display': {'label': {'value': 'focal height', 'language': 'en'},\n",
       "    'description': {'value': 'height of the lamp of a lighthouse from water level',\n",
       "     'language': 'en'}},\n",
       "   'label': 'focal height',\n",
       "   'description': 'height of the lamp of a lighthouse from water level',\n",
       "   'match': {'type': 'alias',\n",
       "    'language': 'en',\n",
       "    'text': 'height of focal plane'},\n",
       "   'aliases': ['height of focal plane']},\n",
       "  {'id': 'P8497',\n",
       "   'title': 'Property:P8497',\n",
       "   'pageid': 96158428,\n",
       "   'datatype': 'quantity',\n",
       "   'concepturi': 'http://www.wikidata.org/entity/P8497',\n",
       "   'repository': 'wikidata',\n",
       "   'url': '//www.wikidata.org/wiki/Property:P8497',\n",
       "   'display': {'label': {'value': 'height of center of mass',\n",
       "     'language': 'en'},\n",
       "    'description': {'value': 'Wikidata property for physical quantities',\n",
       "     'language': 'en'}},\n",
       "   'label': 'height of center of mass',\n",
       "   'description': 'Wikidata property for physical quantities',\n",
       "   'match': {'type': 'label',\n",
       "    'language': 'en',\n",
       "    'text': 'height of center of mass'}}],\n",
       " 'search-continue': 5,\n",
       " 'success': 1}"
      ]
     },
     "execution_count": 40,
     "metadata": {},
     "output_type": "execute_result"
    }
   ],
   "source": [
    "# Property Search\n",
    "parameters = {\n",
    "    \"action\":\"wbsearchentities\",\n",
    "    \"search\":\"height\", # doing hasHeight /hasProperty doesn't really work well; works best with just 1 keyword\n",
    "    \"language\":\"en\",\n",
    "    \"type\":\"property\",\n",
    "    \"format\":\"json\",\n",
    "    \"limit\":\"5\" # use limit property to set amount of items returned\n",
    "}\n",
    "response = requests.get(endpoint, params=parameters)\n",
    "response.json()\n",
    "\n",
    "# even though relationships in wikidata are mostly has relationships, none of them contain the \"has\" keyword; rather, all of them are just single keyword like \"father\" or \"height\" and the has is just assumed\n",
    "# so when doing a search for properties, omit the has and just include the keyword"
   ]
  },
  {
   "cell_type": "code",
   "execution_count": null,
   "metadata": {},
   "outputs": [],
   "source": []
  }
 ],
 "metadata": {
  "kernelspec": {
   "display_name": ".venv",
   "language": "python",
   "name": "python3"
  },
  "language_info": {
   "codemirror_mode": {
    "name": "ipython",
    "version": 3
   },
   "file_extension": ".py",
   "mimetype": "text/x-python",
   "name": "python",
   "nbconvert_exporter": "python",
   "pygments_lexer": "ipython3",
   "version": "3.12.2"
  }
 },
 "nbformat": 4,
 "nbformat_minor": 2
}
